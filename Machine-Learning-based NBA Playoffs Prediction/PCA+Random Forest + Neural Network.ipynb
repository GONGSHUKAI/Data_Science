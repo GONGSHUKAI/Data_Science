{
 "cells": [
  {
   "cell_type": "code",
   "execution_count": 150,
   "metadata": {},
   "outputs": [],
   "source": [
    "from IPython.core.interactiveshell import InteractiveShell\n",
    "InteractiveShell.ast_node_interactivity = \"all\""
   ]
  },
  {
   "cell_type": "code",
   "execution_count": 151,
   "metadata": {},
   "outputs": [
    {
     "data": {
      "text/html": [
       "<div>\n",
       "<style scoped>\n",
       "    .dataframe tbody tr th:only-of-type {\n",
       "        vertical-align: middle;\n",
       "    }\n",
       "\n",
       "    .dataframe tbody tr th {\n",
       "        vertical-align: top;\n",
       "    }\n",
       "\n",
       "    .dataframe thead th {\n",
       "        text-align: right;\n",
       "    }\n",
       "</style>\n",
       "<table border=\"1\" class=\"dataframe\">\n",
       "  <thead>\n",
       "    <tr style=\"text-align: right;\">\n",
       "      <th></th>\n",
       "      <th>命中数差</th>\n",
       "      <th>出手数差</th>\n",
       "      <th>命中率比</th>\n",
       "      <th>三分数差</th>\n",
       "      <th>三分出手差</th>\n",
       "      <th>三分命中率比</th>\n",
       "      <th>罚球命中差</th>\n",
       "      <th>罚球数差</th>\n",
       "      <th>罚球命中率比</th>\n",
       "      <th>进攻篮板差</th>\n",
       "      <th>...</th>\n",
       "      <th>犯规差</th>\n",
       "      <th>进攻效率</th>\n",
       "      <th>防守效率</th>\n",
       "      <th>回合数</th>\n",
       "      <th>有效命中率比</th>\n",
       "      <th>失误率比</th>\n",
       "      <th>进攻篮板率比</th>\n",
       "      <th>防守篮板率比</th>\n",
       "      <th>罚球数占比之比</th>\n",
       "      <th>主客场</th>\n",
       "    </tr>\n",
       "  </thead>\n",
       "  <tbody>\n",
       "    <tr>\n",
       "      <th>0</th>\n",
       "      <td>-5</td>\n",
       "      <td>-10</td>\n",
       "      <td>0.991507</td>\n",
       "      <td>6</td>\n",
       "      <td>13</td>\n",
       "      <td>1.098901</td>\n",
       "      <td>2</td>\n",
       "      <td>12</td>\n",
       "      <td>0.715278</td>\n",
       "      <td>-3</td>\n",
       "      <td>...</td>\n",
       "      <td>-7</td>\n",
       "      <td>109.6</td>\n",
       "      <td>111.7</td>\n",
       "      <td>95.8</td>\n",
       "      <td>1.081081</td>\n",
       "      <td>1.053571</td>\n",
       "      <td>0.725806</td>\n",
       "      <td>0.941040</td>\n",
       "      <td>1.250000</td>\n",
       "      <td>0</td>\n",
       "    </tr>\n",
       "    <tr>\n",
       "      <th>1</th>\n",
       "      <td>11</td>\n",
       "      <td>11</td>\n",
       "      <td>1.162791</td>\n",
       "      <td>8</td>\n",
       "      <td>6</td>\n",
       "      <td>1.597070</td>\n",
       "      <td>11</td>\n",
       "      <td>12</td>\n",
       "      <td>1.051768</td>\n",
       "      <td>9</td>\n",
       "      <td>...</td>\n",
       "      <td>-5</td>\n",
       "      <td>137.5</td>\n",
       "      <td>96.3</td>\n",
       "      <td>99.6</td>\n",
       "      <td>1.219713</td>\n",
       "      <td>0.775000</td>\n",
       "      <td>2.821429</td>\n",
       "      <td>1.421488</td>\n",
       "      <td>1.381743</td>\n",
       "      <td>1</td>\n",
       "    </tr>\n",
       "    <tr>\n",
       "      <th>2</th>\n",
       "      <td>-3</td>\n",
       "      <td>6</td>\n",
       "      <td>0.863558</td>\n",
       "      <td>0</td>\n",
       "      <td>12</td>\n",
       "      <td>0.693694</td>\n",
       "      <td>4</td>\n",
       "      <td>6</td>\n",
       "      <td>0.980609</td>\n",
       "      <td>7</td>\n",
       "      <td>...</td>\n",
       "      <td>-5</td>\n",
       "      <td>122.9</td>\n",
       "      <td>125.1</td>\n",
       "      <td>90.3</td>\n",
       "      <td>0.870821</td>\n",
       "      <td>0.741259</td>\n",
       "      <td>2.503759</td>\n",
       "      <td>1.299850</td>\n",
       "      <td>1.210526</td>\n",
       "      <td>0</td>\n",
       "    </tr>\n",
       "    <tr>\n",
       "      <th>3</th>\n",
       "      <td>-2</td>\n",
       "      <td>-12</td>\n",
       "      <td>1.095238</td>\n",
       "      <td>8</td>\n",
       "      <td>5</td>\n",
       "      <td>1.457726</td>\n",
       "      <td>0</td>\n",
       "      <td>5</td>\n",
       "      <td>0.856667</td>\n",
       "      <td>-6</td>\n",
       "      <td>...</td>\n",
       "      <td>-5</td>\n",
       "      <td>125.2</td>\n",
       "      <td>121.3</td>\n",
       "      <td>93.3</td>\n",
       "      <td>1.195446</td>\n",
       "      <td>1.376147</td>\n",
       "      <td>0.592715</td>\n",
       "      <td>0.850183</td>\n",
       "      <td>1.148276</td>\n",
       "      <td>0</td>\n",
       "    </tr>\n",
       "    <tr>\n",
       "      <th>4</th>\n",
       "      <td>-6</td>\n",
       "      <td>6</td>\n",
       "      <td>0.809717</td>\n",
       "      <td>3</td>\n",
       "      <td>15</td>\n",
       "      <td>1.000000</td>\n",
       "      <td>3</td>\n",
       "      <td>3</td>\n",
       "      <td>1.025840</td>\n",
       "      <td>3</td>\n",
       "      <td>...</td>\n",
       "      <td>1</td>\n",
       "      <td>102.3</td>\n",
       "      <td>107.9</td>\n",
       "      <td>98.2</td>\n",
       "      <td>0.846743</td>\n",
       "      <td>0.992187</td>\n",
       "      <td>1.224490</td>\n",
       "      <td>1.057895</td>\n",
       "      <td>1.051852</td>\n",
       "      <td>1</td>\n",
       "    </tr>\n",
       "    <tr>\n",
       "      <th>...</th>\n",
       "      <td>...</td>\n",
       "      <td>...</td>\n",
       "      <td>...</td>\n",
       "      <td>...</td>\n",
       "      <td>...</td>\n",
       "      <td>...</td>\n",
       "      <td>...</td>\n",
       "      <td>...</td>\n",
       "      <td>...</td>\n",
       "      <td>...</td>\n",
       "      <td>...</td>\n",
       "      <td>...</td>\n",
       "      <td>...</td>\n",
       "      <td>...</td>\n",
       "      <td>...</td>\n",
       "      <td>...</td>\n",
       "      <td>...</td>\n",
       "      <td>...</td>\n",
       "      <td>...</td>\n",
       "      <td>...</td>\n",
       "      <td>...</td>\n",
       "    </tr>\n",
       "    <tr>\n",
       "      <th>2454</th>\n",
       "      <td>-7</td>\n",
       "      <td>-9</td>\n",
       "      <td>0.944551</td>\n",
       "      <td>3</td>\n",
       "      <td>5</td>\n",
       "      <td>1.064039</td>\n",
       "      <td>2</td>\n",
       "      <td>0</td>\n",
       "      <td>1.153740</td>\n",
       "      <td>-2</td>\n",
       "      <td>...</td>\n",
       "      <td>1</td>\n",
       "      <td>110.8</td>\n",
       "      <td>119.9</td>\n",
       "      <td>98.4</td>\n",
       "      <td>0.996650</td>\n",
       "      <td>1.669903</td>\n",
       "      <td>0.771429</td>\n",
       "      <td>0.953757</td>\n",
       "      <td>1.283784</td>\n",
       "      <td>0</td>\n",
       "    </tr>\n",
       "    <tr>\n",
       "      <th>2455</th>\n",
       "      <td>0</td>\n",
       "      <td>7</td>\n",
       "      <td>0.930018</td>\n",
       "      <td>-10</td>\n",
       "      <td>-15</td>\n",
       "      <td>0.877737</td>\n",
       "      <td>-2</td>\n",
       "      <td>-8</td>\n",
       "      <td>1.218430</td>\n",
       "      <td>-3</td>\n",
       "      <td>...</td>\n",
       "      <td>2</td>\n",
       "      <td>117.9</td>\n",
       "      <td>129.0</td>\n",
       "      <td>108.6</td>\n",
       "      <td>0.854790</td>\n",
       "      <td>0.523810</td>\n",
       "      <td>0.636704</td>\n",
       "      <td>0.883133</td>\n",
       "      <td>0.821622</td>\n",
       "      <td>1</td>\n",
       "    </tr>\n",
       "    <tr>\n",
       "      <th>2456</th>\n",
       "      <td>2</td>\n",
       "      <td>10</td>\n",
       "      <td>0.935547</td>\n",
       "      <td>-7</td>\n",
       "      <td>-2</td>\n",
       "      <td>0.494226</td>\n",
       "      <td>-15</td>\n",
       "      <td>-14</td>\n",
       "      <td>0.878857</td>\n",
       "      <td>0</td>\n",
       "      <td>...</td>\n",
       "      <td>3</td>\n",
       "      <td>111.6</td>\n",
       "      <td>129.0</td>\n",
       "      <td>103.9</td>\n",
       "      <td>0.867572</td>\n",
       "      <td>0.860294</td>\n",
       "      <td>0.811688</td>\n",
       "      <td>0.922667</td>\n",
       "      <td>0.510791</td>\n",
       "      <td>0</td>\n",
       "    </tr>\n",
       "    <tr>\n",
       "      <th>2457</th>\n",
       "      <td>-4</td>\n",
       "      <td>-14</td>\n",
       "      <td>1.056948</td>\n",
       "      <td>-8</td>\n",
       "      <td>-14</td>\n",
       "      <td>0.664577</td>\n",
       "      <td>22</td>\n",
       "      <td>25</td>\n",
       "      <td>1.344768</td>\n",
       "      <td>-2</td>\n",
       "      <td>...</td>\n",
       "      <td>-11</td>\n",
       "      <td>111.3</td>\n",
       "      <td>105.4</td>\n",
       "      <td>102.5</td>\n",
       "      <td>0.982524</td>\n",
       "      <td>1.029851</td>\n",
       "      <td>0.992565</td>\n",
       "      <td>0.997271</td>\n",
       "      <td>4.859155</td>\n",
       "      <td>1</td>\n",
       "    </tr>\n",
       "    <tr>\n",
       "      <th>2458</th>\n",
       "      <td>-3</td>\n",
       "      <td>7</td>\n",
       "      <td>0.865031</td>\n",
       "      <td>8</td>\n",
       "      <td>24</td>\n",
       "      <td>1.087413</td>\n",
       "      <td>-7</td>\n",
       "      <td>-7</td>\n",
       "      <td>0.866947</td>\n",
       "      <td>1</td>\n",
       "      <td>...</td>\n",
       "      <td>6</td>\n",
       "      <td>106.5</td>\n",
       "      <td>111.4</td>\n",
       "      <td>102.3</td>\n",
       "      <td>0.948276</td>\n",
       "      <td>0.789062</td>\n",
       "      <td>1.034615</td>\n",
       "      <td>1.012312</td>\n",
       "      <td>0.603604</td>\n",
       "      <td>1</td>\n",
       "    </tr>\n",
       "  </tbody>\n",
       "</table>\n",
       "<p>2459 rows × 25 columns</p>\n",
       "</div>"
      ],
      "text/plain": [
       "      命中数差  出手数差      命中率比  三分数差  三分出手差    三分命中率比  罚球命中差  罚球数差    罚球命中率比   \n",
       "0       -5   -10  0.991507     6     13  1.098901      2    12  0.715278  \\\n",
       "1       11    11  1.162791     8      6  1.597070     11    12  1.051768   \n",
       "2       -3     6  0.863558     0     12  0.693694      4     6  0.980609   \n",
       "3       -2   -12  1.095238     8      5  1.457726      0     5  0.856667   \n",
       "4       -6     6  0.809717     3     15  1.000000      3     3  1.025840   \n",
       "...    ...   ...       ...   ...    ...       ...    ...   ...       ...   \n",
       "2454    -7    -9  0.944551     3      5  1.064039      2     0  1.153740   \n",
       "2455     0     7  0.930018   -10    -15  0.877737     -2    -8  1.218430   \n",
       "2456     2    10  0.935547    -7     -2  0.494226    -15   -14  0.878857   \n",
       "2457    -4   -14  1.056948    -8    -14  0.664577     22    25  1.344768   \n",
       "2458    -3     7  0.865031     8     24  1.087413     -7    -7  0.866947   \n",
       "\n",
       "      进攻篮板差  ...  犯规差   进攻效率   防守效率    回合数    有效命中率比      失误率比    进攻篮板率比   \n",
       "0        -3  ...   -7  109.6  111.7   95.8  1.081081  1.053571  0.725806  \\\n",
       "1         9  ...   -5  137.5   96.3   99.6  1.219713  0.775000  2.821429   \n",
       "2         7  ...   -5  122.9  125.1   90.3  0.870821  0.741259  2.503759   \n",
       "3        -6  ...   -5  125.2  121.3   93.3  1.195446  1.376147  0.592715   \n",
       "4         3  ...    1  102.3  107.9   98.2  0.846743  0.992187  1.224490   \n",
       "...     ...  ...  ...    ...    ...    ...       ...       ...       ...   \n",
       "2454     -2  ...    1  110.8  119.9   98.4  0.996650  1.669903  0.771429   \n",
       "2455     -3  ...    2  117.9  129.0  108.6  0.854790  0.523810  0.636704   \n",
       "2456      0  ...    3  111.6  129.0  103.9  0.867572  0.860294  0.811688   \n",
       "2457     -2  ...  -11  111.3  105.4  102.5  0.982524  1.029851  0.992565   \n",
       "2458      1  ...    6  106.5  111.4  102.3  0.948276  0.789062  1.034615   \n",
       "\n",
       "        防守篮板率比   罚球数占比之比  主客场  \n",
       "0     0.941040  1.250000    0  \n",
       "1     1.421488  1.381743    1  \n",
       "2     1.299850  1.210526    0  \n",
       "3     0.850183  1.148276    0  \n",
       "4     1.057895  1.051852    1  \n",
       "...        ...       ...  ...  \n",
       "2454  0.953757  1.283784    0  \n",
       "2455  0.883133  0.821622    1  \n",
       "2456  0.922667  0.510791    0  \n",
       "2457  0.997271  4.859155    1  \n",
       "2458  1.012312  0.603604    1  \n",
       "\n",
       "[2459 rows x 25 columns]"
      ]
     },
     "execution_count": 151,
     "metadata": {},
     "output_type": "execute_result"
    }
   ],
   "source": [
    "import pandas as pd\n",
    "from sklearn.neural_network import MLPClassifier\n",
    "from sklearn.ensemble import RandomForestClassifier\n",
    "from sklearn.model_selection import train_test_split\n",
    "from sklearn.metrics import classification_report, roc_curve, auc, accuracy_score\n",
    "import matplotlib.pyplot as plt\n",
    "# data是原始数据集，data2是标准化后的原始数据集，data3是为了预测季后赛准备的数据集\n",
    "data = pd.read_excel('test1.xlsx')\n",
    "data2 = pd.read_excel('teststd.xlsx')\n",
    "data3 = pd.read_excel('playoffs prediction data.xlsx')\n",
    "# X是原始数据集，y是输赢情况的列向量\n",
    "X = data[['命中数差','出手数差','命中率比','三分数差','三分出手差','三分命中率比','罚球命中差','罚球数差','罚球命中率比','进攻篮板差','总篮板差','助攻差','抢断差','盖帽差','失误差','犯规差','进攻效率','防守效率','回合数','有效命中率比','失误率比','进攻篮板率比','防守篮板率比','罚球数占比之比','主客场']]\n",
    "y = data[['赢球结果']]\n",
    "# X2是为了预测季后赛准备的数据集\n",
    "X2 = data3[['命中数差','出手数差','命中率比','三分数差','三分出手差','三分命中率比','罚球命中差','罚球数差','罚球命中率比','进攻篮板差','总篮板差','助攻差','抢断差','盖帽差','失误差','犯规差','进攻效率','防守效率','回合数','有效命中率比','失误率比','进攻篮板率比','防守篮板率比','罚球数占比之比','主客场']]\n",
    "\n",
    "\n",
    "# 显示一下原始数据集看看\n",
    "X"
   ]
  },
  {
   "cell_type": "code",
   "execution_count": 152,
   "metadata": {},
   "outputs": [
    {
     "data": {
      "text/html": [
       "<style>#sk-container-id-27 {color: black;background-color: white;}#sk-container-id-27 pre{padding: 0;}#sk-container-id-27 div.sk-toggleable {background-color: white;}#sk-container-id-27 label.sk-toggleable__label {cursor: pointer;display: block;width: 100%;margin-bottom: 0;padding: 0.3em;box-sizing: border-box;text-align: center;}#sk-container-id-27 label.sk-toggleable__label-arrow:before {content: \"▸\";float: left;margin-right: 0.25em;color: #696969;}#sk-container-id-27 label.sk-toggleable__label-arrow:hover:before {color: black;}#sk-container-id-27 div.sk-estimator:hover label.sk-toggleable__label-arrow:before {color: black;}#sk-container-id-27 div.sk-toggleable__content {max-height: 0;max-width: 0;overflow: hidden;text-align: left;background-color: #f0f8ff;}#sk-container-id-27 div.sk-toggleable__content pre {margin: 0.2em;color: black;border-radius: 0.25em;background-color: #f0f8ff;}#sk-container-id-27 input.sk-toggleable__control:checked~div.sk-toggleable__content {max-height: 200px;max-width: 100%;overflow: auto;}#sk-container-id-27 input.sk-toggleable__control:checked~label.sk-toggleable__label-arrow:before {content: \"▾\";}#sk-container-id-27 div.sk-estimator input.sk-toggleable__control:checked~label.sk-toggleable__label {background-color: #d4ebff;}#sk-container-id-27 div.sk-label input.sk-toggleable__control:checked~label.sk-toggleable__label {background-color: #d4ebff;}#sk-container-id-27 input.sk-hidden--visually {border: 0;clip: rect(1px 1px 1px 1px);clip: rect(1px, 1px, 1px, 1px);height: 1px;margin: -1px;overflow: hidden;padding: 0;position: absolute;width: 1px;}#sk-container-id-27 div.sk-estimator {font-family: monospace;background-color: #f0f8ff;border: 1px dotted black;border-radius: 0.25em;box-sizing: border-box;margin-bottom: 0.5em;}#sk-container-id-27 div.sk-estimator:hover {background-color: #d4ebff;}#sk-container-id-27 div.sk-parallel-item::after {content: \"\";width: 100%;border-bottom: 1px solid gray;flex-grow: 1;}#sk-container-id-27 div.sk-label:hover label.sk-toggleable__label {background-color: #d4ebff;}#sk-container-id-27 div.sk-serial::before {content: \"\";position: absolute;border-left: 1px solid gray;box-sizing: border-box;top: 0;bottom: 0;left: 50%;z-index: 0;}#sk-container-id-27 div.sk-serial {display: flex;flex-direction: column;align-items: center;background-color: white;padding-right: 0.2em;padding-left: 0.2em;position: relative;}#sk-container-id-27 div.sk-item {position: relative;z-index: 1;}#sk-container-id-27 div.sk-parallel {display: flex;align-items: stretch;justify-content: center;background-color: white;position: relative;}#sk-container-id-27 div.sk-item::before, #sk-container-id-27 div.sk-parallel-item::before {content: \"\";position: absolute;border-left: 1px solid gray;box-sizing: border-box;top: 0;bottom: 0;left: 50%;z-index: -1;}#sk-container-id-27 div.sk-parallel-item {display: flex;flex-direction: column;z-index: 1;position: relative;background-color: white;}#sk-container-id-27 div.sk-parallel-item:first-child::after {align-self: flex-end;width: 50%;}#sk-container-id-27 div.sk-parallel-item:last-child::after {align-self: flex-start;width: 50%;}#sk-container-id-27 div.sk-parallel-item:only-child::after {width: 0;}#sk-container-id-27 div.sk-dashed-wrapped {border: 1px dashed gray;margin: 0 0.4em 0.5em 0.4em;box-sizing: border-box;padding-bottom: 0.4em;background-color: white;}#sk-container-id-27 div.sk-label label {font-family: monospace;font-weight: bold;display: inline-block;line-height: 1.2em;}#sk-container-id-27 div.sk-label-container {text-align: center;}#sk-container-id-27 div.sk-container {/* jupyter's `normalize.less` sets `[hidden] { display: none; }` but bootstrap.min.css set `[hidden] { display: none !important; }` so we also need the `!important` here to be able to override the default hidden behavior on the sphinx rendered scikit-learn.org. See: https://github.com/scikit-learn/scikit-learn/issues/21755 */display: inline-block !important;position: relative;}#sk-container-id-27 div.sk-text-repr-fallback {display: none;}</style><div id=\"sk-container-id-27\" class=\"sk-top-container\"><div class=\"sk-text-repr-fallback\"><pre>PCA(n_components=25)</pre><b>In a Jupyter environment, please rerun this cell to show the HTML representation or trust the notebook. <br />On GitHub, the HTML representation is unable to render, please try loading this page with nbviewer.org.</b></div><div class=\"sk-container\" hidden><div class=\"sk-item\"><div class=\"sk-estimator sk-toggleable\"><input class=\"sk-toggleable__control sk-hidden--visually\" id=\"sk-estimator-id-27\" type=\"checkbox\" checked><label for=\"sk-estimator-id-27\" class=\"sk-toggleable__label sk-toggleable__label-arrow\">PCA</label><div class=\"sk-toggleable__content\"><pre>PCA(n_components=25)</pre></div></div></div></div></div>"
      ],
      "text/plain": [
       "PCA(n_components=25)"
      ]
     },
     "execution_count": 152,
     "metadata": {},
     "output_type": "execute_result"
    },
    {
     "data": {
      "text/plain": [
       "array([2.28525250e-01, 1.89637919e-01, 1.67925396e-01, 1.30209088e-01,\n",
       "       1.03586149e-01, 8.21558283e-02, 2.36636297e-02, 2.34446666e-02,\n",
       "       1.35777776e-02, 1.20124817e-02, 7.88151564e-03, 6.62382802e-03,\n",
       "       5.03849052e-03, 3.01660970e-03, 1.81162693e-03, 2.64321474e-04,\n",
       "       1.88508070e-04, 1.73733369e-04, 1.52281637e-04, 6.66070648e-05,\n",
       "       3.75733120e-05, 4.93848264e-06, 1.06969080e-06, 6.53214422e-07,\n",
       "       5.71940724e-08])"
      ]
     },
     "execution_count": 152,
     "metadata": {},
     "output_type": "execute_result"
    }
   ],
   "source": [
    "import numpy as np\n",
    "import matplotlib.pyplot as plt\n",
    "from sklearn.decomposition import PCA\n",
    "# 用PCA降维数据，防止过拟合\n",
    "pca = PCA(n_components=25)\n",
    "pca.fit(X)\n",
    "\n",
    "# 将数据集转换为主成分\n",
    "transformed_data = pca.transform(X)\n",
    "transformed_data2 = pca.transform(X2)\n",
    "# 计算各个主成分的方差占比\n",
    "variance_ratio = pca.explained_variance_ratio_\n",
    "\n",
    "variance_ratio"
   ]
  },
  {
   "cell_type": "code",
   "execution_count": 153,
   "metadata": {},
   "outputs": [
    {
     "data": {
      "text/plain": [
       "[<matplotlib.lines.Line2D at 0x29359f490>]"
      ]
     },
     "execution_count": 153,
     "metadata": {},
     "output_type": "execute_result"
    },
    {
     "data": {
      "text/plain": [
       "Text(0.5, 0, 'Number of Components')"
      ]
     },
     "execution_count": 153,
     "metadata": {},
     "output_type": "execute_result"
    },
    {
     "data": {
      "text/plain": [
       "Text(0, 0.5, 'Cumulative Explained Variance')"
      ]
     },
     "execution_count": 153,
     "metadata": {},
     "output_type": "execute_result"
    },
    {
     "data": {
      "image/png": "[encoded data removed]",
      "text/plain": [
       "<Figure size 640x480 with 1 Axes>"
      ]
     },
     "metadata": {},
     "output_type": "display_data"
    }
   ],
   "source": [
    "# 悬崖碎石图\n",
    "plt.plot(np.cumsum(variance_ratio))\n",
    "plt.xlabel('Number of Components')\n",
    "plt.ylabel('Cumulative Explained Variance')\n",
    "\n",
    "plt.show()"
   ]
  },
  {
   "cell_type": "code",
   "execution_count": 154,
   "metadata": {},
   "outputs": [
    {
     "data": {
      "text/html": [
       "<div>\n",
       "<style scoped>\n",
       "    .dataframe tbody tr th:only-of-type {\n",
       "        vertical-align: middle;\n",
       "    }\n",
       "\n",
       "    .dataframe tbody tr th {\n",
       "        vertical-align: top;\n",
       "    }\n",
       "\n",
       "    .dataframe thead th {\n",
       "        text-align: right;\n",
       "    }\n",
       "</style>\n",
       "<table border=\"1\" class=\"dataframe\">\n",
       "  <thead>\n",
       "    <tr style=\"text-align: right;\">\n",
       "      <th></th>\n",
       "      <th>PC1</th>\n",
       "      <th>PC2</th>\n",
       "    </tr>\n",
       "  </thead>\n",
       "  <tbody>\n",
       "    <tr>\n",
       "      <th>0</th>\n",
       "      <td>-8.607509</td>\n",
       "      <td>0.493938</td>\n",
       "    </tr>\n",
       "    <tr>\n",
       "      <th>1</th>\n",
       "      <td>17.519192</td>\n",
       "      <td>38.574854</td>\n",
       "    </tr>\n",
       "    <tr>\n",
       "      <th>2</th>\n",
       "      <td>0.119878</td>\n",
       "      <td>5.002896</td>\n",
       "    </tr>\n",
       "    <tr>\n",
       "      <th>3</th>\n",
       "      <td>-2.985700</td>\n",
       "      <td>-0.686626</td>\n",
       "    </tr>\n",
       "    <tr>\n",
       "      <th>4</th>\n",
       "      <td>0.491177</td>\n",
       "      <td>-5.513319</td>\n",
       "    </tr>\n",
       "    <tr>\n",
       "      <th>...</th>\n",
       "      <td>...</td>\n",
       "      <td>...</td>\n",
       "    </tr>\n",
       "    <tr>\n",
       "      <th>2454</th>\n",
       "      <td>-8.124001</td>\n",
       "      <td>-6.291519</td>\n",
       "    </tr>\n",
       "    <tr>\n",
       "      <th>2455</th>\n",
       "      <td>-6.452315</td>\n",
       "      <td>-13.895971</td>\n",
       "    </tr>\n",
       "    <tr>\n",
       "      <th>2456</th>\n",
       "      <td>5.186828</td>\n",
       "      <td>-22.794387</td>\n",
       "    </tr>\n",
       "    <tr>\n",
       "      <th>2457</th>\n",
       "      <td>-32.207033</td>\n",
       "      <td>24.554553</td>\n",
       "    </tr>\n",
       "    <tr>\n",
       "      <th>2458</th>\n",
       "      <td>18.915332</td>\n",
       "      <td>-14.026568</td>\n",
       "    </tr>\n",
       "  </tbody>\n",
       "</table>\n",
       "<p>2459 rows × 2 columns</p>\n",
       "</div>"
      ],
      "text/plain": [
       "            PC1        PC2\n",
       "0     -8.607509   0.493938\n",
       "1     17.519192  38.574854\n",
       "2      0.119878   5.002896\n",
       "3     -2.985700  -0.686626\n",
       "4      0.491177  -5.513319\n",
       "...         ...        ...\n",
       "2454  -8.124001  -6.291519\n",
       "2455  -6.452315 -13.895971\n",
       "2456   5.186828 -22.794387\n",
       "2457 -32.207033  24.554553\n",
       "2458  18.915332 -14.026568\n",
       "\n",
       "[2459 rows x 2 columns]"
      ]
     },
     "execution_count": 154,
     "metadata": {},
     "output_type": "execute_result"
    }
   ],
   "source": [
    "new_data = transformed_data[:, :2]\n",
    "new_data2 = transformed_data2[:, :2]\n",
    "import pandas as pd\n",
    "# 将处理后的数据集转换为Pandas DataFrame格式\n",
    "new_data = pd.DataFrame(new_data, columns=['PC1', 'PC2'])\n",
    "new_data2 = pd.DataFrame(new_data2, columns=['PC1', 'PC2'])\n",
    "\n",
    "new_data"
   ]
  },
  {
   "cell_type": "code",
   "execution_count": 155,
   "metadata": {},
   "outputs": [
    {
     "name": "stderr",
     "output_type": "stream",
     "text": [
      "/Users/gongshukai/Library/Python/3.9/lib/python/site-packages/sklearn/neural_network/_multilayer_perceptron.py:1098: DataConversionWarning: A column-vector y was passed when a 1d array was expected. Please change the shape of y to (n_samples, ), for example using ravel().\n",
      "  y = column_or_1d(y, warn=True)\n"
     ]
    },
    {
     "data": {
      "text/html": [
       "<style>#sk-container-id-28 {color: black;background-color: white;}#sk-container-id-28 pre{padding: 0;}#sk-container-id-28 div.sk-toggleable {background-color: white;}#sk-container-id-28 label.sk-toggleable__label {cursor: pointer;display: block;width: 100%;margin-bottom: 0;padding: 0.3em;box-sizing: border-box;text-align: center;}#sk-container-id-28 label.sk-toggleable__label-arrow:before {content: \"▸\";float: left;margin-right: 0.25em;color: #696969;}#sk-container-id-28 label.sk-toggleable__label-arrow:hover:before {color: black;}#sk-container-id-28 div.sk-estimator:hover label.sk-toggleable__label-arrow:before {color: black;}#sk-container-id-28 div.sk-toggleable__content {max-height: 0;max-width: 0;overflow: hidden;text-align: left;background-color: #f0f8ff;}#sk-container-id-28 div.sk-toggleable__content pre {margin: 0.2em;color: black;border-radius: 0.25em;background-color: #f0f8ff;}#sk-container-id-28 input.sk-toggleable__control:checked~div.sk-toggleable__content {max-height: 200px;max-width: 100%;overflow: auto;}#sk-container-id-28 input.sk-toggleable__control:checked~label.sk-toggleable__label-arrow:before {content: \"▾\";}#sk-container-id-28 div.sk-estimator input.sk-toggleable__control:checked~label.sk-toggleable__label {background-color: #d4ebff;}#sk-container-id-28 div.sk-label input.sk-toggleable__control:checked~label.sk-toggleable__label {background-color: #d4ebff;}#sk-container-id-28 input.sk-hidden--visually {border: 0;clip: rect(1px 1px 1px 1px);clip: rect(1px, 1px, 1px, 1px);height: 1px;margin: -1px;overflow: hidden;padding: 0;position: absolute;width: 1px;}#sk-container-id-28 div.sk-estimator {font-family: monospace;background-color: #f0f8ff;border: 1px dotted black;border-radius: 0.25em;box-sizing: border-box;margin-bottom: 0.5em;}#sk-container-id-28 div.sk-estimator:hover {background-color: #d4ebff;}#sk-container-id-28 div.sk-parallel-item::after {content: \"\";width: 100%;border-bottom: 1px solid gray;flex-grow: 1;}#sk-container-id-28 div.sk-label:hover label.sk-toggleable__label {background-color: #d4ebff;}#sk-container-id-28 div.sk-serial::before {content: \"\";position: absolute;border-left: 1px solid gray;box-sizing: border-box;top: 0;bottom: 0;left: 50%;z-index: 0;}#sk-container-id-28 div.sk-serial {display: flex;flex-direction: column;align-items: center;background-color: white;padding-right: 0.2em;padding-left: 0.2em;position: relative;}#sk-container-id-28 div.sk-item {position: relative;z-index: 1;}#sk-container-id-28 div.sk-parallel {display: flex;align-items: stretch;justify-content: center;background-color: white;position: relative;}#sk-container-id-28 div.sk-item::before, #sk-container-id-28 div.sk-parallel-item::before {content: \"\";position: absolute;border-left: 1px solid gray;box-sizing: border-box;top: 0;bottom: 0;left: 50%;z-index: -1;}#sk-container-id-28 div.sk-parallel-item {display: flex;flex-direction: column;z-index: 1;position: relative;background-color: white;}#sk-container-id-28 div.sk-parallel-item:first-child::after {align-self: flex-end;width: 50%;}#sk-container-id-28 div.sk-parallel-item:last-child::after {align-self: flex-start;width: 50%;}#sk-container-id-28 div.sk-parallel-item:only-child::after {width: 0;}#sk-container-id-28 div.sk-dashed-wrapped {border: 1px dashed gray;margin: 0 0.4em 0.5em 0.4em;box-sizing: border-box;padding-bottom: 0.4em;background-color: white;}#sk-container-id-28 div.sk-label label {font-family: monospace;font-weight: bold;display: inline-block;line-height: 1.2em;}#sk-container-id-28 div.sk-label-container {text-align: center;}#sk-container-id-28 div.sk-container {/* jupyter's `normalize.less` sets `[hidden] { display: none; }` but bootstrap.min.css set `[hidden] { display: none !important; }` so we also need the `!important` here to be able to override the default hidden behavior on the sphinx rendered scikit-learn.org. See: https://github.com/scikit-learn/scikit-learn/issues/21755 */display: inline-block !important;position: relative;}#sk-container-id-28 div.sk-text-repr-fallback {display: none;}</style><div id=\"sk-container-id-28\" class=\"sk-top-container\"><div class=\"sk-text-repr-fallback\"><pre>MLPClassifier(hidden_layer_sizes=(10, 10))</pre><b>In a Jupyter environment, please rerun this cell to show the HTML representation or trust the notebook. <br />On GitHub, the HTML representation is unable to render, please try loading this page with nbviewer.org.</b></div><div class=\"sk-container\" hidden><div class=\"sk-item\"><div class=\"sk-estimator sk-toggleable\"><input class=\"sk-toggleable__control sk-hidden--visually\" id=\"sk-estimator-id-28\" type=\"checkbox\" checked><label for=\"sk-estimator-id-28\" class=\"sk-toggleable__label sk-toggleable__label-arrow\">MLPClassifier</label><div class=\"sk-toggleable__content\"><pre>MLPClassifier(hidden_layer_sizes=(10, 10))</pre></div></div></div></div></div>"
      ],
      "text/plain": [
       "MLPClassifier(hidden_layer_sizes=(10, 10))"
      ]
     },
     "execution_count": 155,
     "metadata": {},
     "output_type": "execute_result"
    },
    {
     "name": "stderr",
     "output_type": "stream",
     "text": [
      "/var/folders/wz/4cyv558d01jb0_wb8_71vmz00000gn/T/ipykernel_62977/433197395.py:8: DataConversionWarning: A column-vector y was passed when a 1d array was expected. Please change the shape of y to (n_samples,), for example using ravel().\n",
      "  model2.fit(X_train,y_train)\n"
     ]
    },
    {
     "data": {
      "text/html": [
       "<style>#sk-container-id-29 {color: black;background-color: white;}#sk-container-id-29 pre{padding: 0;}#sk-container-id-29 div.sk-toggleable {background-color: white;}#sk-container-id-29 label.sk-toggleable__label {cursor: pointer;display: block;width: 100%;margin-bottom: 0;padding: 0.3em;box-sizing: border-box;text-align: center;}#sk-container-id-29 label.sk-toggleable__label-arrow:before {content: \"▸\";float: left;margin-right: 0.25em;color: #696969;}#sk-container-id-29 label.sk-toggleable__label-arrow:hover:before {color: black;}#sk-container-id-29 div.sk-estimator:hover label.sk-toggleable__label-arrow:before {color: black;}#sk-container-id-29 div.sk-toggleable__content {max-height: 0;max-width: 0;overflow: hidden;text-align: left;background-color: #f0f8ff;}#sk-container-id-29 div.sk-toggleable__content pre {margin: 0.2em;color: black;border-radius: 0.25em;background-color: #f0f8ff;}#sk-container-id-29 input.sk-toggleable__control:checked~div.sk-toggleable__content {max-height: 200px;max-width: 100%;overflow: auto;}#sk-container-id-29 input.sk-toggleable__control:checked~label.sk-toggleable__label-arrow:before {content: \"▾\";}#sk-container-id-29 div.sk-estimator input.sk-toggleable__control:checked~label.sk-toggleable__label {background-color: #d4ebff;}#sk-container-id-29 div.sk-label input.sk-toggleable__control:checked~label.sk-toggleable__label {background-color: #d4ebff;}#sk-container-id-29 input.sk-hidden--visually {border: 0;clip: rect(1px 1px 1px 1px);clip: rect(1px, 1px, 1px, 1px);height: 1px;margin: -1px;overflow: hidden;padding: 0;position: absolute;width: 1px;}#sk-container-id-29 div.sk-estimator {font-family: monospace;background-color: #f0f8ff;border: 1px dotted black;border-radius: 0.25em;box-sizing: border-box;margin-bottom: 0.5em;}#sk-container-id-29 div.sk-estimator:hover {background-color: #d4ebff;}#sk-container-id-29 div.sk-parallel-item::after {content: \"\";width: 100%;border-bottom: 1px solid gray;flex-grow: 1;}#sk-container-id-29 div.sk-label:hover label.sk-toggleable__label {background-color: #d4ebff;}#sk-container-id-29 div.sk-serial::before {content: \"\";position: absolute;border-left: 1px solid gray;box-sizing: border-box;top: 0;bottom: 0;left: 50%;z-index: 0;}#sk-container-id-29 div.sk-serial {display: flex;flex-direction: column;align-items: center;background-color: white;padding-right: 0.2em;padding-left: 0.2em;position: relative;}#sk-container-id-29 div.sk-item {position: relative;z-index: 1;}#sk-container-id-29 div.sk-parallel {display: flex;align-items: stretch;justify-content: center;background-color: white;position: relative;}#sk-container-id-29 div.sk-item::before, #sk-container-id-29 div.sk-parallel-item::before {content: \"\";position: absolute;border-left: 1px solid gray;box-sizing: border-box;top: 0;bottom: 0;left: 50%;z-index: -1;}#sk-container-id-29 div.sk-parallel-item {display: flex;flex-direction: column;z-index: 1;position: relative;background-color: white;}#sk-container-id-29 div.sk-parallel-item:first-child::after {align-self: flex-end;width: 50%;}#sk-container-id-29 div.sk-parallel-item:last-child::after {align-self: flex-start;width: 50%;}#sk-container-id-29 div.sk-parallel-item:only-child::after {width: 0;}#sk-container-id-29 div.sk-dashed-wrapped {border: 1px dashed gray;margin: 0 0.4em 0.5em 0.4em;box-sizing: border-box;padding-bottom: 0.4em;background-color: white;}#sk-container-id-29 div.sk-label label {font-family: monospace;font-weight: bold;display: inline-block;line-height: 1.2em;}#sk-container-id-29 div.sk-label-container {text-align: center;}#sk-container-id-29 div.sk-container {/* jupyter's `normalize.less` sets `[hidden] { display: none; }` but bootstrap.min.css set `[hidden] { display: none !important; }` so we also need the `!important` here to be able to override the default hidden behavior on the sphinx rendered scikit-learn.org. See: https://github.com/scikit-learn/scikit-learn/issues/21755 */display: inline-block !important;position: relative;}#sk-container-id-29 div.sk-text-repr-fallback {display: none;}</style><div id=\"sk-container-id-29\" class=\"sk-top-container\"><div class=\"sk-text-repr-fallback\"><pre>RandomForestClassifier(n_estimators=1000)</pre><b>In a Jupyter environment, please rerun this cell to show the HTML representation or trust the notebook. <br />On GitHub, the HTML representation is unable to render, please try loading this page with nbviewer.org.</b></div><div class=\"sk-container\" hidden><div class=\"sk-item\"><div class=\"sk-estimator sk-toggleable\"><input class=\"sk-toggleable__control sk-hidden--visually\" id=\"sk-estimator-id-29\" type=\"checkbox\" checked><label for=\"sk-estimator-id-29\" class=\"sk-toggleable__label sk-toggleable__label-arrow\">RandomForestClassifier</label><div class=\"sk-toggleable__content\"><pre>RandomForestClassifier(n_estimators=1000)</pre></div></div></div></div></div>"
      ],
      "text/plain": [
       "RandomForestClassifier(n_estimators=1000)"
      ]
     },
     "execution_count": 155,
     "metadata": {},
     "output_type": "execute_result"
    }
   ],
   "source": [
    "# 划分训练集和测试集\n",
    "X_train, X_test, y_train, y_test = train_test_split(new_data, y, test_size=0.3)\n",
    "# 创建神经网络模型\n",
    "model = MLPClassifier(hidden_layer_sizes=(10,10), activation='relu', solver='adam')\n",
    "model2 = RandomForestClassifier(n_estimators= 1000)\n",
    "# 在训练集上训练模型\n",
    "model.fit(X_train, y_train)\n",
    "model2.fit(X_train,y_train)\n",
    "# 预测测试集\n",
    "y_pred = model.predict(X_test)\n",
    "y_pred2 = model2.predict(X_test)\n"
   ]
  },
  {
   "cell_type": "code",
   "execution_count": 156,
   "metadata": {},
   "outputs": [
    {
     "data": {
      "text/plain": [
       "array([[9.96239586e-01, 3.76041449e-03],\n",
       "       [4.19581192e-01, 5.80418808e-01],\n",
       "       [9.93696903e-01, 6.30309682e-03],\n",
       "       ...,\n",
       "       [9.99823108e-01, 1.76892466e-04],\n",
       "       [1.78743951e-01, 8.21256049e-01],\n",
       "       [8.89347455e-03, 9.91106525e-01]])"
      ]
     },
     "execution_count": 156,
     "metadata": {},
     "output_type": "execute_result"
    }
   ],
   "source": [
    "prob = model.predict_proba(X_test)\n",
    "prob2 = model2.predict_proba(X_test)\n",
    "\n",
    "prob"
   ]
  },
  {
   "cell_type": "code",
   "execution_count": 157,
   "metadata": {},
   "outputs": [
    {
     "data": {
      "text/plain": [
       "array([[1.   , 0.   ],\n",
       "       [0.683, 0.317],\n",
       "       [0.998, 0.002],\n",
       "       ...,\n",
       "       [0.999, 0.001],\n",
       "       [0.105, 0.895],\n",
       "       [0.   , 1.   ]])"
      ]
     },
     "execution_count": 157,
     "metadata": {},
     "output_type": "execute_result"
    }
   ],
   "source": [
    "prob2"
   ]
  },
  {
   "cell_type": "code",
   "execution_count": 158,
   "metadata": {},
   "outputs": [
    {
     "name": "stdout",
     "output_type": "stream",
     "text": [
      "              precision    recall  f1-score   support\n",
      "\n",
      "           0       0.88      0.84      0.86       368\n",
      "           1       0.85      0.89      0.87       370\n",
      "\n",
      "    accuracy                           0.86       738\n",
      "   macro avg       0.87      0.86      0.86       738\n",
      "weighted avg       0.87      0.86      0.86       738\n",
      "\n",
      "              precision    recall  f1-score   support\n",
      "\n",
      "           0       0.88      0.81      0.84       368\n",
      "           1       0.82      0.89      0.85       370\n",
      "\n",
      "    accuracy                           0.85       738\n",
      "   macro avg       0.85      0.85      0.85       738\n",
      "weighted avg       0.85      0.85      0.85       738\n",
      "\n"
     ]
    }
   ],
   "source": [
    "print(classification_report(y_test, y_pred))\n",
    "print(classification_report(y_test, y_pred2))"
   ]
  },
  {
   "cell_type": "code",
   "execution_count": 159,
   "metadata": {},
   "outputs": [
    {
     "data": {
      "text/plain": [
       "[<matplotlib.lines.Line2D at 0x2934c6df0>]"
      ]
     },
     "execution_count": 159,
     "metadata": {},
     "output_type": "execute_result"
    },
    {
     "data": {
      "text/plain": [
       "Text(0.5, 0, 'False Winning Rate')"
      ]
     },
     "execution_count": 159,
     "metadata": {},
     "output_type": "execute_result"
    },
    {
     "data": {
      "text/plain": [
       "Text(0, 0.5, 'True Winning Rate')"
      ]
     },
     "execution_count": 159,
     "metadata": {},
     "output_type": "execute_result"
    },
    {
     "data": {
      "text/plain": [
       "Text(0.5, 1.0, 'ROC MLP Classifier')"
      ]
     },
     "execution_count": 159,
     "metadata": {},
     "output_type": "execute_result"
    },
    {
     "data": {
      "image/png": "[encoded data removed]",
      "text/plain": [
       "<Figure size 640x480 with 1 Axes>"
      ]
     },
     "metadata": {},
     "output_type": "display_data"
    }
   ],
   "source": [
    "fpr, tpr, thresholds = roc_curve(y_test, prob[:,1])\n",
    "roc_auc = auc(fpr, tpr)\n",
    "fpr2, tpr2, thresholds2 = roc_curve(y_test, prob2[:,1])\n",
    "roc_auc2 = auc(fpr2, tpr2)\n",
    "\n",
    "plt.plot(fpr, tpr,color='darkorange')\n",
    "\n",
    "plt.xlabel('False Winning Rate')\n",
    "plt.ylabel('True Winning Rate')\n",
    "plt.title('ROC MLP Classifier')"
   ]
  },
  {
   "cell_type": "code",
   "execution_count": 160,
   "metadata": {},
   "outputs": [
    {
     "data": {
      "text/plain": [
       "[<matplotlib.lines.Line2D at 0x295827fa0>]"
      ]
     },
     "execution_count": 160,
     "metadata": {},
     "output_type": "execute_result"
    },
    {
     "data": {
      "text/plain": [
       "Text(0.5, 0, 'False Winning Rate')"
      ]
     },
     "execution_count": 160,
     "metadata": {},
     "output_type": "execute_result"
    },
    {
     "data": {
      "text/plain": [
       "Text(0, 0.5, 'True Winning Rate')"
      ]
     },
     "execution_count": 160,
     "metadata": {},
     "output_type": "execute_result"
    },
    {
     "data": {
      "text/plain": [
       "Text(0.5, 1.0, 'ROC Random Forest')"
      ]
     },
     "execution_count": 160,
     "metadata": {},
     "output_type": "execute_result"
    },
    {
     "data": {
      "image/png": "[encoded data removed]",
      "text/plain": [
       "<Figure size 640x480 with 1 Axes>"
      ]
     },
     "metadata": {},
     "output_type": "display_data"
    }
   ],
   "source": [
    "plt.plot(fpr2, tpr2)\n",
    "plt.xlabel('False Winning Rate')\n",
    "plt.ylabel('True Winning Rate')\n",
    "plt.title('ROC Random Forest')"
   ]
  },
  {
   "cell_type": "code",
   "execution_count": 161,
   "metadata": {},
   "outputs": [
    {
     "data": {
      "text/plain": [
       "[<matplotlib.lines.Line2D at 0x2958543a0>,\n",
       " <matplotlib.lines.Line2D at 0x295854400>]"
      ]
     },
     "execution_count": 161,
     "metadata": {},
     "output_type": "execute_result"
    },
    {
     "data": {
      "text/plain": [
       "Text(0.5, 0, 'Specificity')"
      ]
     },
     "execution_count": 161,
     "metadata": {},
     "output_type": "execute_result"
    },
    {
     "data": {
      "text/plain": [
       "Text(0, 0.5, 'Sensitivity')"
      ]
     },
     "execution_count": 161,
     "metadata": {},
     "output_type": "execute_result"
    },
    {
     "data": {
      "text/plain": [
       "Text(0.5, 1.0, 'ROC of MLP & Random Forest')"
      ]
     },
     "execution_count": 161,
     "metadata": {},
     "output_type": "execute_result"
    },
    {
     "data": {
      "image/png": "[encoded data removed]",
      "text/plain": [
       "<Figure size 640x480 with 1 Axes>"
      ]
     },
     "metadata": {},
     "output_type": "display_data"
    }
   ],
   "source": [
    "plt.plot(fpr,tpr,fpr2, tpr2)\n",
    "plt.xlabel('Specificity')\n",
    "plt.ylabel('Sensitivity')\n",
    "plt.title('ROC of MLP & Random Forest')\n",
    "plt.show()"
   ]
  },
  {
   "cell_type": "code",
   "execution_count": 162,
   "metadata": {},
   "outputs": [],
   "source": [
    "playoff_prob = model.predict_proba(new_data2)\n",
    "playoff_prob2 = model2.predict_proba(new_data2)"
   ]
  },
  {
   "cell_type": "code",
   "execution_count": 163,
   "metadata": {},
   "outputs": [],
   "source": [
    "#由于playoff_prob里面有A vs B和B vs A，我们每两行取平均值作为预测的概率\n",
    "\n",
    "def calculate(input):\n",
    "    output=[]\n",
    "    # 按顺序将每两个向量为一组，并计算平均值\n",
    "    for i in range(0, len(input), 2):\n",
    "        vector1 = input[i]\n",
    "        vector2 = input[i+1]\n",
    "        average = (vector1[0] + vector2[1]) / 2\n",
    "        output.append([average,1-average])\n",
    "    return output"
   ]
  },
  {
   "cell_type": "code",
   "execution_count": 164,
   "metadata": {},
   "outputs": [
    {
     "data": {
      "text/plain": [
       "array([[0.54205903, 0.45794097],\n",
       "       [0.27422321, 0.72577679],\n",
       "       [0.25043735, 0.74956265],\n",
       "       [0.36314149, 0.63685851],\n",
       "       [0.19637704, 0.80362296],\n",
       "       [0.56191377, 0.43808623],\n",
       "       [0.38840568, 0.61159432],\n",
       "       [0.55954731, 0.44045269],\n",
       "       [0.24301125, 0.75698875],\n",
       "       [0.41115678, 0.58884322],\n",
       "       [0.68896563, 0.31103437],\n",
       "       [0.06401281, 0.93598719],\n",
       "       [0.0130995 , 0.9869005 ],\n",
       "       [0.97666431, 0.02333569],\n",
       "       [0.18586386, 0.81413614],\n",
       "       [0.6741926 , 0.3258074 ],\n",
       "       [0.48450344, 0.51549656],\n",
       "       [0.26021812, 0.73978188],\n",
       "       [0.50844966, 0.49155034],\n",
       "       [0.24335069, 0.75664931],\n",
       "       [0.46597696, 0.53402304],\n",
       "       [0.06318684, 0.93681316],\n",
       "       [0.94277501, 0.05722499],\n",
       "       [0.03242581, 0.96757419],\n",
       "       [0.30079289, 0.69920711],\n",
       "       [0.45499252, 0.54500748],\n",
       "       [0.02085002, 0.97914998],\n",
       "       [0.95315037, 0.04684963],\n",
       "       [0.06956056, 0.93043944],\n",
       "       [0.93310518, 0.06689482],\n",
       "       [0.42266965, 0.57733035],\n",
       "       [0.23051211, 0.76948789],\n",
       "       [0.50844966, 0.49155034],\n",
       "       [0.24335069, 0.75664931],\n",
       "       [0.09933704, 0.90066296],\n",
       "       [0.50749996, 0.49250004],\n",
       "       [0.06318684, 0.93681316],\n",
       "       [0.46597696, 0.53402304],\n",
       "       [0.57070853, 0.42929147],\n",
       "       [0.19522028, 0.80477972],\n",
       "       [0.19650425, 0.80349575],\n",
       "       [0.33778158, 0.66221842],\n",
       "       [0.15186712, 0.84813288],\n",
       "       [0.39052349, 0.60947651]])"
      ]
     },
     "execution_count": 164,
     "metadata": {},
     "output_type": "execute_result"
    }
   ],
   "source": [
    "playoff_prob\n"
   ]
  },
  {
   "cell_type": "code",
   "execution_count": 165,
   "metadata": {},
   "outputs": [
    {
     "data": {
      "text/plain": [
       "array([[0.415, 0.585],\n",
       "       [0.392, 0.608],\n",
       "       [0.61 , 0.39 ],\n",
       "       [0.165, 0.835],\n",
       "       [0.303, 0.697],\n",
       "       [0.806, 0.194],\n",
       "       [0.193, 0.807],\n",
       "       [0.556, 0.444],\n",
       "       [0.403, 0.597],\n",
       "       [0.867, 0.133],\n",
       "       [0.625, 0.375],\n",
       "       [0.006, 0.994],\n",
       "       [0.005, 0.995],\n",
       "       [0.976, 0.024],\n",
       "       [0.161, 0.839],\n",
       "       [0.418, 0.582],\n",
       "       [0.343, 0.657],\n",
       "       [0.412, 0.588],\n",
       "       [0.494, 0.506],\n",
       "       [0.415, 0.585],\n",
       "       [0.454, 0.546],\n",
       "       [0.207, 0.793],\n",
       "       [0.996, 0.004],\n",
       "       [0.01 , 0.99 ],\n",
       "       [0.462, 0.538],\n",
       "       [0.323, 0.677],\n",
       "       [0.008, 0.992],\n",
       "       [0.982, 0.018],\n",
       "       [0.013, 0.987],\n",
       "       [0.994, 0.006],\n",
       "       [0.148, 0.852],\n",
       "       [0.089, 0.911],\n",
       "       [0.494, 0.506],\n",
       "       [0.415, 0.585],\n",
       "       [0.088, 0.912],\n",
       "       [0.812, 0.188],\n",
       "       [0.207, 0.793],\n",
       "       [0.454, 0.546],\n",
       "       [0.909, 0.091],\n",
       "       [0.077, 0.923],\n",
       "       [0.124, 0.876],\n",
       "       [0.436, 0.564],\n",
       "       [0.546, 0.454],\n",
       "       [0.441, 0.559]])"
      ]
     },
     "execution_count": 165,
     "metadata": {},
     "output_type": "execute_result"
    }
   ],
   "source": [
    "playoff_prob2"
   ]
  },
  {
   "cell_type": "code",
   "execution_count": 166,
   "metadata": {},
   "outputs": [
    {
     "data": {
      "text/plain": [
       "[[0.6339179093233638, 0.3660820906766362],\n",
       " [0.4436479340689778, 0.5563520659310222],\n",
       " [0.3172316316408575, 0.6827683683591426],\n",
       " [0.41442918161282877, 0.5855708183871713],\n",
       " [0.4159272318742294, 0.5840727681257706],\n",
       " [0.812476411969282, 0.187523588030718],\n",
       " [0.01821759466096908, 0.9817824053390309],\n",
       " [0.2558356290924986, 0.7441643709075014],\n",
       " [0.6121426602550165, 0.3878573397449835],\n",
       " [0.6325494829781245, 0.3674505170218755],\n",
       " [0.7013950608006152, 0.2986049391993848],\n",
       " [0.9551745998918826, 0.04482540010811742],\n",
       " [0.42290018353813286, 0.5770998164618671],\n",
       " [0.03384982653990841, 0.9661501734600916],\n",
       " [0.06822769006945831, 0.9317723099305417],\n",
       " [0.5960787680897133, 0.4039212319102867],\n",
       " [0.6325494829781245, 0.3674505170218755],\n",
       " [0.2959185384599032, 0.7040814615400968],\n",
       " [0.2986049391993848, 0.7013950608006152],\n",
       " [0.6877441261039601, 0.3122558738960399],\n",
       " [0.42936133117793707, 0.5706386688220629],\n",
       " [0.3806718114607993, 0.6193281885392007]]"
      ]
     },
     "execution_count": 166,
     "metadata": {},
     "output_type": "execute_result"
    },
    {
     "data": {
      "text/plain": [
       "[[0.5115, 0.48850000000000005],\n",
       " [0.7224999999999999, 0.2775000000000001],\n",
       " [0.2485, 0.7515000000000001],\n",
       " [0.3185, 0.6815],\n",
       " [0.268, 0.732],\n",
       " [0.8095, 0.1905],\n",
       " [0.0145, 0.9855],\n",
       " [0.3715, 0.6285000000000001],\n",
       " [0.4655, 0.5345],\n",
       " [0.5395, 0.4605],\n",
       " [0.6235, 0.37649999999999995],\n",
       " [0.993, 0.007000000000000006],\n",
       " [0.5695, 0.4305],\n",
       " [0.013, 0.987],\n",
       " [0.0095, 0.9905],\n",
       " [0.5295, 0.47050000000000003],\n",
       " [0.5395, 0.4605],\n",
       " [0.138, 0.862],\n",
       " [0.3765, 0.6234999999999999],\n",
       " [0.916, 0.08399999999999996],\n",
       " [0.344, 0.656],\n",
       " [0.5525, 0.4475]]"
      ]
     },
     "execution_count": 166,
     "metadata": {},
     "output_type": "execute_result"
    }
   ],
   "source": [
    "calculate(playoff_prob)\n",
    "calculate(playoff_prob2)\n",
    "#注意：左输右赢"
   ]
  }
 ],
 "metadata": {
  "kernelspec": {
   "display_name": "Python 3",
   "language": "python",
   "name": "python3"
  },
  "language_info": {
   "codemirror_mode": {
    "name": "ipython",
    "version": 3
   },
   "file_extension": ".py",
   "mimetype": "text/x-python",
   "name": "python",
   "nbconvert_exporter": "python",
   "pygments_lexer": "ipython3",
   "version": "3.9.6"
  },
  "orig_nbformat": 4
 },
 "nbformat": 4,
 "nbformat_minor": 2
}
