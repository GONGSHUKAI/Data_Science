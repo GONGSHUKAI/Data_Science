{
 "cells": [
  {
   "cell_type": "markdown",
   "id": "888ba53a",
   "metadata": {},
   "source": [
    "# 第三章：数据科学的数学基础"
   ]
  },
  {
   "cell_type": "markdown",
   "id": "38a2aa75",
   "metadata": {},
   "source": [
    "## 非线性规划"
   ]
  },
  {
   "cell_type": "markdown",
   "id": "6d487d14",
   "metadata": {},
   "source": [
    "例1：求$\\min z=(1-x_1)^2+100(x_2-x_1^2)^2$"
   ]
  },
  {
   "cell_type": "code",
   "execution_count": 24,
   "id": "1ccdf1e9",
   "metadata": {},
   "outputs": [
    {
     "name": "stdout",
     "output_type": "stream",
     "text": [
      "Defaulting to user installation because normal site-packages is not writeable\n",
      "Requirement already satisfied: scipy in /Users/gongshukai/Library/Python/3.9/lib/python/site-packages (1.10.1)\n",
      "Requirement already satisfied: numpy<1.27.0,>=1.19.5 in /Users/gongshukai/Library/Python/3.9/lib/python/site-packages (from scipy) (1.24.1)\n",
      "\n",
      "\u001b[1m[\u001b[0m\u001b[34;49mnotice\u001b[0m\u001b[1;39;49m]\u001b[0m\u001b[39;49m A new release of pip is available: \u001b[0m\u001b[31;49m23.0\u001b[0m\u001b[39;49m -> \u001b[0m\u001b[32;49m23.1\u001b[0m\n",
      "\u001b[1m[\u001b[0m\u001b[34;49mnotice\u001b[0m\u001b[1;39;49m]\u001b[0m\u001b[39;49m To update, run: \u001b[0m\u001b[32;49m/Applications/Xcode.app/Contents/Developer/usr/bin/python3 -m pip install --upgrade pip\u001b[0m\n",
      "Note: you may need to restart the kernel to use updated packages.\n",
      "[0.99999554 0.99999105]\n",
      "1.9956580947116778e-11\n"
     ]
    }
   ],
   "source": [
    "%pip install scipy\n",
    "from scipy.optimize import minimize\n",
    "import numpy as np\n",
    "\n",
    "def rosenbrock():\n",
    "    v=lambda x:(1-x[0])**2+100*(x[1]-x[0]**2)**2\n",
    "    return v\n",
    "\n",
    "x0=np.array([0,3])#开始搜索最优值的初始点\n",
    "result=minimize(rosenbrock(),x0)\n",
    "print(result.x)#输出取得最优值时的[x0,x1]\n",
    "print(result.fun)#输出最优值"
   ]
  },
  {
   "cell_type": "markdown",
   "id": "a5ef0452",
   "metadata": {},
   "source": [
    "例2：求$\\min z=(1-x_1)^2+100(x_2-x_1^2)^2$\n",
    "\n",
    "$$\n",
    "s.t.\\begin{equation}\n",
    "\\begin{cases}\n",
    "    -3x_1-4x2\\ge -12\\\\\n",
    "\t-x_1+2x_2\\ge -2\\\\\n",
    "\tx_1\\ge 0\\\\\n",
    "\tx_2\\ge 0\\\\\n",
    "\\end{cases}\n",
    "\\end{equation}\n",
    "$$"
   ]
  },
  {
   "cell_type": "markdown",
   "id": "6f976655",
   "metadata": {},
   "source": [
    "## 线性规划"
   ]
  },
  {
   "cell_type": "markdown",
   "id": "cd5641aa",
   "metadata": {},
   "source": [
    "例3：求$\\min z=-2x_1-x_2$\n",
    "\n",
    "$$\n",
    "s.t.\\begin{cases}\n",
    " \t-3x_1-4x2\\ge -12\\\\\n",
    " \t-x_1+2x_2\\ge -2\\\\\n",
    " \tx_1\\ge 0\\\\\n",
    " \tx_2\\ge 0\\\\\n",
    "\\end{cases}\n",
    "$$\n",
    "可以用scipy.optimize或pulp包实现"
   ]
  },
  {
   "cell_type": "code",
   "execution_count": 25,
   "id": "6f9a8f59",
   "metadata": {},
   "outputs": [
    {
     "name": "stdout",
     "output_type": "stream",
     "text": [
      " message: Optimization terminated successfully\n",
      " success: True\n",
      "  status: 0\n",
      "     fun: 7.108906066299667e-08\n",
      "       x: [ 1.000e+00  1.000e+00]\n",
      "     nit: 20\n",
      "     jac: [ 5.830e-03 -2.679e-03]\n",
      "    nfev: 66\n",
      "    njev: 20\n"
     ]
    }
   ],
   "source": [
    "#解一：scipy.optimize实现\n",
    "from scipy.optimize import minimize\n",
    "\n",
    "def rosenbrock():\n",
    "    v=lambda x:(1-x[0])**2+100*(x[1]-x[0]**2)**2\n",
    "    return v\n",
    "\n",
    "x0=np.array([0,3])\n",
    "cons=(\n",
    "{'type':'ineq','fun':lambda x:-3*x[0]-4*x[1]+12},\n",
    "{'type':'ineq','fun':lambda x:-x[0]+2*x[1]+2},\n",
    "{'type':'ineq','fun':lambda x:x[0]},\n",
    "{'type':'ineq','fun':lambda x:x[1]})#注意：限制条件都默认是>=,要手动标准化\n",
    "result=minimize(rosenbrock(),x0,\n",
    "constraints=cons)\n",
    "print(result)"
   ]
  },
  {
   "cell_type": "code",
   "execution_count": 26,
   "id": "f71f0411",
   "metadata": {},
   "outputs": [
    {
     "name": "stdout",
     "output_type": "stream",
     "text": [
      "Defaulting to user installation because normal site-packages is not writeable\n",
      "Requirement already satisfied: pulp in /Users/gongshukai/Library/Python/3.9/lib/python/site-packages (2.7.0)\n",
      "\n",
      "\u001b[1m[\u001b[0m\u001b[34;49mnotice\u001b[0m\u001b[1;39;49m]\u001b[0m\u001b[39;49m A new release of pip is available: \u001b[0m\u001b[31;49m23.0\u001b[0m\u001b[39;49m -> \u001b[0m\u001b[32;49m23.1\u001b[0m\n",
      "\u001b[1m[\u001b[0m\u001b[34;49mnotice\u001b[0m\u001b[1;39;49m]\u001b[0m\u001b[39;49m To update, run: \u001b[0m\u001b[32;49m/Applications/Xcode.app/Contents/Developer/usr/bin/python3 -m pip install --upgrade pip\u001b[0m\n",
      "Welcome to the CBC MILP Solver \n",
      "Version: 2.10.3 \n",
      "Build Date: Dec 15 2019 \n",
      "\n",
      "command line - /Users/gongshukai/Library/Python/3.9/lib/python/site-packages/pulp/solverdir/cbc/osx/64/cbc /var/folders/wz/4cyv558d01jb0_wb8_71vmz00000gn/T/d59c806750fc4afd890a54c550767fd5-pulp.mps timeMode elapsed branch printingOptions all solution /var/folders/wz/4cyv558d01jb0_wb8_71vmz00000gn/T/d59c806750fc4afd890a54c550767fd5-pulp.sol (default strategy 1)\n",
      "At line 2 NAME          MODEL\n",
      "At line 3 ROWS\n",
      "At line 7 COLUMNS\n",
      "At line 14 RHS\n",
      "At line 17 BOUNDS\n",
      "At line 18 ENDATA\n",
      "Problem MODEL has 2 rows, 2 columns and 4 elements\n",
      "Coin0008I MODEL read with 0 errors\n",
      "Option for timeMode changed from cpu to elapsed\n",
      "Presolve 0 (-2) rows, 0 (-2) columns and 0 (-4) elements\n",
      "Empty problem - 0 rows, 0 columns and 0 elements\n",
      "Optimal - objective value -7\n",
      "After Postsolve, objective -7, infeasibilities - dual 0 (0), primal 0 (0)\n",
      "Optimal objective -7 - 0 iterations time 0.002, Presolve 0.00\n",
      "Option for printingOptions changed from normal to all\n",
      "Total time (CPU seconds):       0.00   (Wallclock seconds):       0.00\n",
      "\n",
      "x1 = 3.2\n",
      "x2 = 0.6\n",
      "Optimal Value = -7.0\n"
     ]
    }
   ],
   "source": [
    "#解二：pulp包实现\n",
    "! pip install pulp\n",
    "from pulp import *\n",
    "# 创建问题实例\n",
    "prob = LpProblem(\"linear_programming_problem\", LpMinimize)\n",
    "# 创建变量\n",
    "x1 = LpVariable(\"x1\", lowBound=0)#x1>=0\n",
    "x2 = LpVariable(\"x2\", lowBound=0)#x2>=0\n",
    "# 设置目标函数\n",
    "prob += -2 * x1 - x2\n",
    "# 添加约束条件\n",
    "prob += -3 * x1 + -4 * x2 >= -12\n",
    "prob += -x1 + 2 * x2 >= -2\n",
    "# 解决问题\n",
    "status = prob.solve()\n",
    "# 输出结果\n",
    "print(\"x1 =\", value(x1))\n",
    "print(\"x2 =\", value(x2))\n",
    "print(\"Optimal Value =\", value(prob.objective))"
   ]
  },
  {
   "attachments": {},
   "cell_type": "markdown",
   "id": "d9bc445e",
   "metadata": {},
   "source": [
    "## 概率论与数理统计"
   ]
  },
  {
   "attachments": {},
   "cell_type": "markdown",
   "id": "57b8ef64",
   "metadata": {},
   "source": [
    "### 二项分布"
   ]
  },
  {
   "cell_type": "code",
   "execution_count": 27,
   "id": "69f3dc23",
   "metadata": {},
   "outputs": [
    {
     "name": "stdout",
     "output_type": "stream",
     "text": [
      "0.5000000000000002\n",
      "0.25\n"
     ]
    }
   ],
   "source": [
    "from scipy import stats\n",
    "#第一个参数是C(k,n)的k，第二个参数是C(n,k)的n，第三个参数是其中一个事件的概率\n",
    "print(stats.binom.pmf(1,n=2,p=0.5))\n",
    "print(stats.binom.pmf(2,n=2,p=0.5))"
   ]
  },
  {
   "attachments": {},
   "cell_type": "markdown",
   "id": "0ea83e6f",
   "metadata": {},
   "source": [
    "### 正态分布"
   ]
  },
  {
   "cell_type": "code",
   "execution_count": 28,
   "id": "4accdcee",
   "metadata": {},
   "outputs": [
    {
     "name": "stdout",
     "output_type": "stream",
     "text": [
      "0.8413447460685429\n",
      "0.022750131948179195\n",
      "0.8185946141203637\n"
     ]
    }
   ],
   "source": [
    "#cdf指的就是正态分布的概率密度函数，cdf(1)就是P(X=1)的值\n",
    "print(stats.norm.cdf(1))\n",
    "print(stats.norm.cdf(-2))\n",
    "#P(-2<x<1)\n",
    "print(stats.norm.cdf(1)-stats.norm.cdf(-2))"
   ]
  },
  {
   "cell_type": "code",
   "execution_count": 29,
   "id": "db3daeb3",
   "metadata": {},
   "outputs": [
    {
     "data": {
      "text/plain": [
       "array([8, 6, 4])"
      ]
     },
     "execution_count": 29,
     "metadata": {},
     "output_type": "execute_result"
    }
   ],
   "source": [
    "#简单随机抽样\n",
    "import numpy as np\n",
    "x1=np.arange(10)\n",
    "np.random.choice(x1,3)#有放回\n",
    "np.random.choice(x1,11,replace=True)#有放回\n",
    "np.random.choice(x1,3,replace=False)#无放回"
   ]
  },
  {
   "cell_type": "markdown",
   "id": "5e051361",
   "metadata": {},
   "source": [
    "## 第三章作业"
   ]
  },
  {
   "cell_type": "markdown",
   "id": "92d05b24",
   "metadata": {},
   "source": [
    "1.矩阵\n",
    "$A=\\begin{bmatrix}\n",
    "2 & -1 & -1 & 1\\\\\n",
    "1 & 2 & 1 & -1\\\\\n",
    "-1 & 1 & 2 & -1\\\\\n",
    "1 & -1 & -1 & 2\\\\\n",
    "\\end{bmatrix}$，用R或Python计算：$A^T$、$A^{-1}$、$3A$、$A\\cdot I_{4\\times4}$、$A\\odot I_{4\\times4}$、$A$的特征值与特征向量."
   ]
  },
  {
   "cell_type": "code",
   "execution_count": 30,
   "id": "a3a385a2",
   "metadata": {},
   "outputs": [
    {
     "name": "stdout",
     "output_type": "stream",
     "text": [
      "转置矩阵为：[[ 2 -1 -1  1]\n",
      " [-1  2  1 -1]\n",
      " [-1  1  2 -1]\n",
      " [ 1 -1 -1  2]]\n",
      "逆矩阵为：[[ 0.8  0.2  0.2 -0.2]\n",
      " [ 0.2  0.8 -0.2  0.2]\n",
      " [ 0.2 -0.2  0.8  0.2]\n",
      " [-0.2  0.2  0.2  0.8]]\n",
      "3A为：[[ 6 -3 -3  3]\n",
      " [-3  6  3 -3]\n",
      " [-3  3  6 -3]\n",
      " [ 3 -3 -3  6]]\n",
      "A与I的矩阵乘积：[[ 2 -1 -1  1]\n",
      " [-1  2  1 -1]\n",
      " [-1  1  2 -1]\n",
      " [ 1 -1 -1  2]]\n",
      "A与I的哈达玛积为：[[2 0 0 0]\n",
      " [0 2 0 0]\n",
      " [0 0 2 0]\n",
      " [0 0 0 2]]\n",
      "A的特征值为：[1. 5. 1. 1.]\n",
      "A的特征向量为：[[-0.8660254  -0.5        -0.18045389  0.09837421]\n",
      " [-0.28867513  0.5         0.73842321 -0.32999351]\n",
      " [-0.28867513  0.5        -0.45943855  0.84254576]\n",
      " [ 0.28867513 -0.5         0.45943855  0.41417804]]\n"
     ]
    }
   ],
   "source": [
    "import numpy as np\n",
    "A = np.array([[2,-1,-1,1], [-1,2,1,-1],[-1,1,2,-1],[1,-1,-1,2]])\n",
    "I = np.array([[1,0,0,0], [0,1,0,0],[0,0,1,0],[0,0,0,1]])\n",
    "Tran=A.T\n",
    "Inv=np.linalg.inv(A)\n",
    "B=3*A\n",
    "C=np.dot(A,I)#矩阵乘法在np.matrix下直接A*I\n",
    "D=np.multiply(A,I)#哈达玛积在np.array下直接A*I\n",
    "eigenvalues, eigenvectors = np.linalg.eig(A)\n",
    "\n",
    "print(f\"转置矩阵为：{Tran}\")\n",
    "print(f\"逆矩阵为：{Inv}\")\n",
    "print(f\"3A为：{B}\")\n",
    "print(f\"A与I的矩阵乘积：{C}\")\n",
    "print(f\"A与I的哈达玛积为：{D}\")\n",
    "print(f\"A的特征值为：{eigenvalues}\")\n",
    "print(f\"A的特征向量为：{eigenvectors}\")"
   ]
  },
  {
   "cell_type": "markdown",
   "id": "abd7863c",
   "metadata": {},
   "source": [
    "2.使用python或R编程，使用二分法求单调函数 $f(x)=(x-\\dfrac{1}{3})^3$在定义域$[-10,10]$上使得$f(x)=0$的近似解，要求近似解与精确解$\\dfrac{1}{3}$的误差在$10^{-5}$之内，返回近似解与求解的迭代次数"
   ]
  },
  {
   "cell_type": "code",
   "execution_count": 31,
   "id": "1069f181",
   "metadata": {},
   "outputs": [
    {
     "name": "stdout",
     "output_type": "stream",
     "text": [
      "0.333251953125\n",
      "13\n"
     ]
    }
   ],
   "source": [
    "#二分法求解的python代码\n",
    "def f(x):\n",
    "    return (x-1/3)**3\n",
    "def bisection_method(a, b, epsilon):\n",
    "    c = (a + b) / 2.0\n",
    "    count = 0\n",
    "    while abs(f(c)) > epsilon:\n",
    "        if f(a) * f(c) < 0:\n",
    "            b = c\n",
    "        else:\n",
    "            a = c\n",
    "        c = (a + b) / 2.0\n",
    "        count+= 1\n",
    "    return c, count\n",
    "a = -10\n",
    "b = 10\n",
    "epsilon = 1e-9\n",
    "sol, count = bisection_method(a, b, epsilon)\n",
    "print(sol)\n",
    "print(count)"
   ]
  },
  {
   "cell_type": "markdown",
   "id": "60fe39e7",
   "metadata": {},
   "source": [
    "2.使用牛顿迭代法求解上述问题"
   ]
  },
  {
   "cell_type": "markdown",
   "id": "aa6d4b0a",
   "metadata": {},
   "source": [
    "首先，牛顿求解法的原理是：$x_{n+1}=x_n-\\dfrac{f(x_n)}{f'(x_n)}$.Python代码如下："
   ]
  },
  {
   "cell_type": "code",
   "execution_count": 32,
   "id": "6e560b47",
   "metadata": {},
   "outputs": [
    {
     "name": "stdout",
     "output_type": "stream",
     "text": [
      "0.3325721139131596\n",
      "15\n"
     ]
    }
   ],
   "source": [
    "def f(x):\n",
    "    return (x-1/3)**3\n",
    "\n",
    "def df(x):\n",
    "    return 3*(x-1/3)**2\n",
    "\n",
    "def newton_method(x0,epsilon):\n",
    "    x=x0\n",
    "    count=0\n",
    "    while abs(f(x))>epsilon:\n",
    "        x=x-f(x)/df(x)\n",
    "        count+=1\n",
    "    return x,count\n",
    "\n",
    "x0=0\n",
    "epsilon=1e-9\n",
    "x,count=newton_method(x0,epsilon)\n",
    "print(x)\n",
    "print(count)"
   ]
  },
  {
   "cell_type": "code",
   "execution_count": 33,
   "id": "8375ddc0",
   "metadata": {},
   "outputs": [
    {
     "name": "stdout",
     "output_type": "stream",
     "text": [
      "[ 0.77285927  3.91677229 -3.19033006  0.51554725  1.6116153   1.55675982\n",
      "  1.46790582  0.26846486  2.93238499  4.1495556   1.00027141  2.81751905\n",
      "  0.32888161  3.41414127  4.38822141  0.69207843 -1.44295185  1.46078166\n",
      " -1.2331229   1.21520546  1.12208424  3.14100656  0.69508414  0.91073197\n",
      " -0.52148007 -0.42254859 -0.06529312  0.94697957  0.877059   -2.05910722\n",
      "  2.03421045  0.07751363  0.64679239  0.37242519  1.13578658  4.26591825\n",
      "  0.34123755  2.33921821  0.62798321  1.32197279  3.19776859  2.33441214\n",
      "  0.49256701  1.00694327 -0.70765416  3.25568636 -0.08626849  3.95983036\n",
      "  0.78487827  0.33736766 -2.41404341 -1.65059711 -0.16624204  2.01331633\n",
      "  2.02618924  2.87432327  1.44045384 -2.11550308  0.75580059  1.65364494\n",
      " -1.94945598 -0.76811655  2.98016424  0.92315446 -0.71618056 -1.46782492\n",
      " -1.24101221  3.7304045   0.53518355  1.66983131  4.21388745  0.96016776\n",
      "  1.66493506  8.26211508  1.81246554  2.73158399  0.47245337 -2.84032506\n",
      "  5.6166061  -1.89953531  2.85246522  2.14681848  0.85892299 -1.02237734\n",
      "  1.42696666  1.31260859  1.0160373   2.12304807  1.7270193  -0.62229247\n",
      "  1.80223947  2.76685452  4.64502737  4.07005856  4.17022721 -1.25843204\n",
      "  0.60353008  1.97202342 -0.62812191 -2.32174776]\n",
      "均值: 1.1575438655915418\n",
      "标准差: 1.9687941462449625\n"
     ]
    }
   ],
   "source": [
    "import numpy as np\n",
    "\n",
    "mu = 1\n",
    "sigma = 2\n",
    "vector = np.random.normal(mu, sigma, 100)\n",
    "\n",
    "mean = np.mean(vector)\n",
    "std = np.std(vector)\n",
    "\n",
    "print(vector)\n",
    "print(f\"均值: {mean}\")\n",
    "print(f\"标准差: {std}\")"
   ]
  },
  {
   "cell_type": "code",
   "execution_count": 3,
   "metadata": {},
   "outputs": [
    {
     "name": "stdout",
     "output_type": "stream",
     "text": [
      "[[ 0.   0.   6.  -5. ]\n",
      " [ 0.   0.  -5.   4. ]\n",
      " [ 0.   0.   3.5 -1.5]\n",
      " [ 0.   0.   5.  -2. ]]\n",
      "[ 5.00000000e-01  1.00000000e+00 -2.23939467e-14  1.26650043e-16]\n",
      "[[ 0.52981294 -0.77459667  0.44358108 -0.3558322 ]\n",
      " [ 0.26490647 -0.25819889  0.24594129 -0.74205578]\n",
      " [-0.13245324 -0.25819889 -0.19763979 -0.38622358]\n",
      " [-0.79471941  0.51639778 -0.83886067 -0.41661495]]\n"
     ]
    }
   ],
   "source": [
    "import numpy as np\n",
    "A=np.array([[1,2,0,0],[2,3,0,0],[1,1,1,0],[1,0,0,1]])\n",
    "B=np.array([[5,-2,-4,3],[3,-1,-3,2],[-3,0.5,4.5,-2.5],[-10,3,11,-7]])\n",
    "\n",
    "result3=np.dot(np.linalg.inv(A),B)\n",
    "result4=np.dot(result3,A)\n",
    "eigenvalue,eigenvectors=np.linalg.eig(B)\n",
    "\n",
    "print(result4)\n",
    "print(eigenvalue)\n",
    "print(eigenvectors)"
   ]
  },
  {
   "cell_type": "markdown",
   "id": "bd6db232",
   "metadata": {},
   "source": [
    "# 第四章：数据科学的统计原则"
   ]
  },
  {
   "cell_type": "markdown",
   "id": "16c49b88",
   "metadata": {},
   "source": [
    "## 1.可重复原则：数据或模型发生一定程度的扰动时，分析结果依然能够保持相对一致。\n",
    "数据的扰动：因素包括：（1）原始数据的采集过程中的测量误差（2）数据清洗和整理过程中出现的扰动**（3）抽象变异性**\n",
    "### 抽样变异性：基于样本计算的统计量的取值在每一次抽样过程中具有变异性。\n",
    "例如：对于**简单线性模型**\n",
    "$$Y=\\beta_0+\\beta_1X_1+...+\\beta_pX_p+\\varepsilon$$\n",
    "其中$Y$在该模型中称为响应变量，$X_1,...X_p$称为协变量，$\\varepsilon$是随机误差项，通常假定其服从$N~(0,\\sigma^2)$\n",
    "\n",
    "### 抽样变异性的度量：\n",
    "#### （1）参数估计的变异性\n",
    "$$Var(\\bar y)=Var(\\dfrac{\\sum\\limits_{i=1}^{n}y_i}{n})=\\dfrac{1}{n^2}\\to \\dfrac{\\sigma^2}{n}$$\n",
    "表明$\\bar y$的变异程度（1）取决于总体方差$\\sigma^2$（2）样本量$n$\n",
    "\n",
    "最小二乘方法：\n",
    "\n",
    "Bootstrap法：从样本$Y=(Y_1,...,Y_n)$中进行$n$次有放回的随机抽样，得到一个Bootstrap样本$Y^{*(1)}$，重复该过程$B$次得到$B$个Bootstrap样本。\n",
    "\n",
    "#### （2）变量选择结果的稳定性\n",
    "Lasso为代表的正则化方法：假定在真实的回归模型中，重要的变量相对于所有变量而言是少数的（稀疏性假设）——方法$\\times$3\n",
    "\n",
    "（1）序列不稳定性（2）Bootstrap不稳定性（3）扰动不稳定性\n",
    "\n",
    "### Bootstrap组合方法\n",
    "也称Bagging算法：对Bootstrap样本训练出来的多回归函数的估计进行平均\n",
    "\n"
   ]
  },
  {
   "attachments": {},
   "cell_type": "markdown",
   "id": "0775ca2f",
   "metadata": {},
   "source": [
    "#### Bootstrap法代码"
   ]
  },
  {
   "cell_type": "code",
   "execution_count": 46,
   "id": "82d39c92",
   "metadata": {},
   "outputs": [
    {
     "data": {
      "image/png": "[encoded data removed]",
      "text/plain": [
       "<Figure size 800x400 with 1 Axes>"
      ]
     },
     "metadata": {},
     "output_type": "display_data"
    }
   ],
   "source": [
    "import numpy as np\n",
    "import matplotlib.pyplot as plt\n",
    "import seaborn as sns\n",
    "from numpy.random import default_rng\n",
    "\n",
    "# Generate a sample following normal distribution with mean 0 and std 1\n",
    "rng = default_rng()\n",
    "n=10000\n",
    "normal_dist = rng.normal(0, 1, size = n)\n",
    "\n",
    "# Generate the population distribution, the std of which = std/sqrt(n)\n",
    "# This is to serve as a reference against Bootstrap distribution\n",
    "normal_dist_ref = rng.normal(0, (1/np.sqrt(n)), size = n)\n",
    "\n",
    "# Use Bootstrap method to estimate the mean of the population\n",
    "bootstrap_mean1 = []#B=10\n",
    "bootstrap_mean2 = []#B=20\n",
    "bootstrap_mean3 = []#B=50\n",
    "bootstrap_mean4 = []#B=100\n",
    "\n",
    "def bootstrap_function(bootstrap_mean, B):\n",
    "    for i in range(B):\n",
    "        bootstrap_sample = rng.choice(normal_dist, size=n, replace=True)\n",
    "        bootstrap_mean.append(np.mean(bootstrap_sample))\n",
    "    return bootstrap_mean\n",
    "\n",
    "bootstrap_mean1 = bootstrap_function(bootstrap_mean1,10)\n",
    "bootstrap_mean2 = bootstrap_function(bootstrap_mean2,20)\n",
    "bootstrap_mean3 = bootstrap_function(bootstrap_mean3,50)\n",
    "bootstrap_mean4 = bootstrap_function(bootstrap_mean4,100)\n",
    "\n",
    "\n",
    "# Obtain the default palette of Seaborn for line color\n",
    "palette = sns.color_palette()\n",
    "\n",
    "# Create a KDE plot of the bootstrap means\n",
    "plt.figure(figsize=(8, 4))\n",
    "sns.kdeplot(bootstrap_mean1, color=palette[0], label='B=10')\n",
    "sns.kdeplot(bootstrap_mean2, color=palette[1], label='B=20')\n",
    "sns.kdeplot(bootstrap_mean3, color=palette[2], label='B=50')\n",
    "sns.kdeplot(bootstrap_mean4, color=palette[3], label='B=100')\n",
    "sns.kdeplot(normal_dist_ref,color=palette[4], fill=True, label='Real Distribution')\n",
    "plt.title(\"the Bootstrap distribution and real distribution of sample mean\")\n",
    "plt.xlabel(\"y.bar\")\n",
    "plt.ylabel(\"Density\")\n",
    "plt.legend()\n",
    "plt.show()"
   ]
  },
  {
   "cell_type": "code",
   "execution_count": 5,
   "id": "37b1a5cf",
   "metadata": {},
   "outputs": [
    {
     "name": "stdout",
     "output_type": "stream",
     "text": [
      "Defaulting to user installation because normal site-packages is not writeable\n",
      "Requirement already satisfied: scikit-learn in /Users/gongshukai/Library/Python/3.9/lib/python/site-packages (1.2.2)\n",
      "Requirement already satisfied: joblib>=1.1.1 in /Users/gongshukai/Library/Python/3.9/lib/python/site-packages (from scikit-learn) (1.2.0)\n",
      "Requirement already satisfied: scipy>=1.3.2 in /Users/gongshukai/Library/Python/3.9/lib/python/site-packages (from scikit-learn) (1.10.1)\n",
      "Requirement already satisfied: threadpoolctl>=2.0.0 in /Users/gongshukai/Library/Python/3.9/lib/python/site-packages (from scikit-learn) (3.1.0)\n",
      "Requirement already satisfied: numpy>=1.17.3 in /Users/gongshukai/Library/Python/3.9/lib/python/site-packages (from scikit-learn) (1.24.1)\n",
      "\n",
      "\u001b[1m[\u001b[0m\u001b[34;49mnotice\u001b[0m\u001b[1;39;49m]\u001b[0m\u001b[39;49m A new release of pip is available: \u001b[0m\u001b[31;49m23.0\u001b[0m\u001b[39;49m -> \u001b[0m\u001b[32;49m23.1.2\u001b[0m\n",
      "\u001b[1m[\u001b[0m\u001b[34;49mnotice\u001b[0m\u001b[1;39;49m]\u001b[0m\u001b[39;49m To update, run: \u001b[0m\u001b[32;49m/Applications/Xcode.app/Contents/Developer/usr/bin/python3 -m pip install --upgrade pip\u001b[0m\n",
      "Bagging算法的均方误差为: 2884.15\n"
     ]
    },
    {
     "name": "stderr",
     "output_type": "stream",
     "text": [
      "/Users/gongshukai/Library/Python/3.9/lib/python/site-packages/sklearn/ensemble/_base.py:166: FutureWarning: `base_estimator` was renamed to `estimator` in version 1.2 and will be removed in 1.4.\n",
      "  warnings.warn(\n"
     ]
    }
   ],
   "source": [
    "!pip install scikit-learn\n",
    "from sklearn.datasets import load_diabetes\n",
    "from sklearn.linear_model import LinearRegression\n",
    "from sklearn.ensemble import BaggingRegressor\n",
    "from sklearn.model_selection import train_test_split\n",
    "from sklearn.metrics import mean_squared_error\n",
    "\n",
    "# 加载数据集\n",
    "diabetes = load_diabetes()\n",
    "X, y = diabetes.data, diabetes.target\n",
    "\n",
    "# 划分训练集和测试集\n",
    "X_train, X_test, y_train, y_test = train_test_split(X, y, test_size=0.3, random_state=42)\n",
    "\n",
    "# 定义基础模型\n",
    "base_model = LinearRegression()\n",
    "\n",
    "# 定义Bagging算法模型\n",
    "bagging_model = BaggingRegressor(base_estimator=base_model, n_estimators=10, random_state=42)\n",
    "\n",
    "# 训练模型\n",
    "bagging_model.fit(X_train, y_train)\n",
    "\n",
    "# 在测试集上进行预测\n",
    "y_pred = bagging_model.predict(X_test)\n",
    "\n",
    "# 计算均方误差\n",
    "mse = mean_squared_error(y_test, y_pred)\n",
    "print(\"Bagging算法的均方误差为: {:.2f}\".format(mse))"
   ]
  },
  {
   "cell_type": "markdown",
   "id": "907ecb89",
   "metadata": {},
   "source": [
    "# 第五章：数据可视化\n",
    "\n",
    "## 散点图"
   ]
  },
  {
   "cell_type": "code",
   "execution_count": 35,
   "id": "a549fa0b",
   "metadata": {},
   "outputs": [
    {
     "data": {
      "text/plain": [
       "<matplotlib.colorbar.Colorbar at 0x12745fd30>"
      ]
     },
     "execution_count": 35,
     "metadata": {},
     "output_type": "execute_result"
    },
    {
     "data": {
      "image/png": "[encoded data removed]",
      "text/plain": [
       "<Figure size 640x480 with 2 Axes>"
      ]
     },
     "metadata": {},
     "output_type": "display_data"
    }
   ],
   "source": [
    "import pandas as pd#用来读xlsx/csv文件\n",
    "import matplotlib\n",
    "import matplotlib.pyplot as plt\n",
    "data=pd.read_csv(\"tips.csv\")\n",
    "matplotlib.rcParams['font.family']='Palatino'\n",
    "plt.scatter(data['total_bill'],data['tip'],c=data['size'],marker=\"o\")#画散点图\n",
    "plt.title(\"Scatter plot: bill-tips\")#图表标题\n",
    "plt.xlabel('Total bill')#x轴标签\n",
    "plt.ylabel('Tip')#y轴标签\n",
    "plt.legend(loc=\"upper left\",labels=['size'])#图例\n",
    "plt.colorbar()#色温图"
   ]
  },
  {
   "cell_type": "code",
   "execution_count": null,
   "id": "5ae8e8f8",
   "metadata": {},
   "outputs": [],
   "source": []
  },
  {
   "cell_type": "markdown",
   "id": "70eca783",
   "metadata": {},
   "source": [
    "## 画折线图"
   ]
  },
  {
   "cell_type": "code",
   "execution_count": 36,
   "id": "8037ea6c",
   "metadata": {},
   "outputs": [
    {
     "data": {
      "text/plain": [
       "Text(0, 0.5, 'Tip')"
      ]
     },
     "execution_count": 36,
     "metadata": {},
     "output_type": "execute_result"
    },
    {
     "data": {
      "image/png": "[encoded data removed]",
      "text/plain": [
       "<Figure size 640x480 with 1 Axes>"
      ]
     },
     "metadata": {},
     "output_type": "display_data"
    }
   ],
   "source": [
    "plt.plot(data['total_bill'],data['tip']#画折线图\n",
    "        ,linestyle=\":\",linewidth=3,color=\"black\")#分别是设置线的样式，线的宽度，线的颜色\n",
    "plt.xlabel('Total bill')#x轴标签\n",
    "plt.ylabel('Tip')#y轴标签"
   ]
  },
  {
   "cell_type": "markdown",
   "id": "3ec67fe1",
   "metadata": {},
   "source": [
    "## 带95%置信区间的折线图"
   ]
  },
  {
   "cell_type": "code",
   "execution_count": 37,
   "id": "9a4d44ee",
   "metadata": {},
   "outputs": [
    {
     "name": "stdout",
     "output_type": "stream",
     "text": [
      "Defaulting to user installation because normal site-packages is not writeable\n",
      "Requirement already satisfied: seaborn in /Users/gongshukai/Library/Python/3.9/lib/python/site-packages (0.12.2)\n",
      "Requirement already satisfied: matplotlib!=3.6.1,>=3.1 in /Users/gongshukai/Library/Python/3.9/lib/python/site-packages (from seaborn) (3.7.1)\n",
      "Requirement already satisfied: numpy!=1.24.0,>=1.17 in /Users/gongshukai/Library/Python/3.9/lib/python/site-packages (from seaborn) (1.24.1)\n",
      "Requirement already satisfied: pandas>=0.25 in /Users/gongshukai/Library/Python/3.9/lib/python/site-packages (from seaborn) (2.0.0)\n",
      "Requirement already satisfied: contourpy>=1.0.1 in /Users/gongshukai/Library/Python/3.9/lib/python/site-packages (from matplotlib!=3.6.1,>=3.1->seaborn) (1.0.7)\n",
      "Requirement already satisfied: fonttools>=4.22.0 in /Users/gongshukai/Library/Python/3.9/lib/python/site-packages (from matplotlib!=3.6.1,>=3.1->seaborn) (4.39.3)\n",
      "Requirement already satisfied: packaging>=20.0 in /Users/gongshukai/Library/Python/3.9/lib/python/site-packages (from matplotlib!=3.6.1,>=3.1->seaborn) (23.0)\n",
      "Requirement already satisfied: pyparsing>=2.3.1 in /Users/gongshukai/Library/Python/3.9/lib/python/site-packages (from matplotlib!=3.6.1,>=3.1->seaborn) (3.0.9)\n",
      "Requirement already satisfied: cycler>=0.10 in /Users/gongshukai/Library/Python/3.9/lib/python/site-packages (from matplotlib!=3.6.1,>=3.1->seaborn) (0.11.0)\n",
      "Requirement already satisfied: pillow>=6.2.0 in /Users/gongshukai/Library/Python/3.9/lib/python/site-packages (from matplotlib!=3.6.1,>=3.1->seaborn) (9.5.0)\n",
      "Requirement already satisfied: python-dateutil>=2.7 in /Users/gongshukai/Library/Python/3.9/lib/python/site-packages (from matplotlib!=3.6.1,>=3.1->seaborn) (2.8.2)\n",
      "Requirement already satisfied: kiwisolver>=1.0.1 in /Users/gongshukai/Library/Python/3.9/lib/python/site-packages (from matplotlib!=3.6.1,>=3.1->seaborn) (1.4.4)\n",
      "Requirement already satisfied: importlib-resources>=3.2.0 in /Users/gongshukai/Library/Python/3.9/lib/python/site-packages (from matplotlib!=3.6.1,>=3.1->seaborn) (5.12.0)\n",
      "Requirement already satisfied: pytz>=2020.1 in /Users/gongshukai/Library/Python/3.9/lib/python/site-packages (from pandas>=0.25->seaborn) (2023.3)\n",
      "Requirement already satisfied: tzdata>=2022.1 in /Users/gongshukai/Library/Python/3.9/lib/python/site-packages (from pandas>=0.25->seaborn) (2023.3)\n",
      "Requirement already satisfied: zipp>=3.1.0 in /Users/gongshukai/Library/Python/3.9/lib/python/site-packages (from importlib-resources>=3.2.0->matplotlib!=3.6.1,>=3.1->seaborn) (3.15.0)\n",
      "Requirement already satisfied: six>=1.5 in /Applications/Xcode.app/Contents/Developer/Library/Frameworks/Python3.framework/Versions/3.9/lib/python3.9/site-packages (from python-dateutil>=2.7->matplotlib!=3.6.1,>=3.1->seaborn) (1.15.0)\n",
      "\n",
      "\u001b[1m[\u001b[0m\u001b[34;49mnotice\u001b[0m\u001b[1;39;49m]\u001b[0m\u001b[39;49m A new release of pip is available: \u001b[0m\u001b[31;49m23.0\u001b[0m\u001b[39;49m -> \u001b[0m\u001b[32;49m23.1\u001b[0m\n",
      "\u001b[1m[\u001b[0m\u001b[34;49mnotice\u001b[0m\u001b[1;39;49m]\u001b[0m\u001b[39;49m To update, run: \u001b[0m\u001b[32;49m/Applications/Xcode.app/Contents/Developer/usr/bin/python3 -m pip install --upgrade pip\u001b[0m\n",
      "Note: you may need to restart the kernel to use updated packages.\n"
     ]
    },
    {
     "data": {
      "image/png": "[encoded data removed]",
      "text/plain": [
       "<Figure size 640x480 with 1 Axes>"
      ]
     },
     "metadata": {},
     "output_type": "display_data"
    }
   ],
   "source": [
    "%pip install seaborn\n",
    "import seaborn as sns\n",
    "import matplotlib.pyplot as plt\n",
    "import pandas as pd\n",
    " \n",
    "data = pd.read_csv(\"tips.csv\")# 绘制折线图，会自动添加95%置信区间，返回matplotlib axes\n",
    "ax = sns.lineplot(x='day', y='tip', data=data)# 添加图标题\n",
    "ax.set_title('Line Chart')\n",
    "plt.show()"
   ]
  },
  {
   "cell_type": "markdown",
   "id": "0ba80eb5",
   "metadata": {},
   "source": [
    "## 折线图（有数据标识+可缩放）"
   ]
  },
  {
   "cell_type": "code",
   "execution_count": 38,
   "id": "22e5cc79",
   "metadata": {},
   "outputs": [
    {
     "ename": "ModuleNotFoundError",
     "evalue": "No module named 'plotly'",
     "output_type": "error",
     "traceback": [
      "\u001b[0;31m---------------------------------------------------------------------------\u001b[0m",
      "\u001b[0;31mModuleNotFoundError\u001b[0m                       Traceback (most recent call last)",
      "Cell \u001b[0;32mIn[38], line 1\u001b[0m\n\u001b[0;32m----> 1\u001b[0m \u001b[39mimport\u001b[39;00m \u001b[39mplotly\u001b[39;00m\u001b[39m.\u001b[39;00m\u001b[39mexpress\u001b[39;00m \u001b[39mas\u001b[39;00m \u001b[39mpx\u001b[39;00m\n\u001b[1;32m      2\u001b[0m \u001b[39mimport\u001b[39;00m \u001b[39mpandas\u001b[39;00m \u001b[39mas\u001b[39;00m \u001b[39mpd\u001b[39;00m\n\u001b[1;32m      3\u001b[0m data \u001b[39m=\u001b[39m pd\u001b[39m.\u001b[39mread_csv(\u001b[39m\"\u001b[39m\u001b[39mtips.csv\u001b[39m\u001b[39m\"\u001b[39m)\u001b[39m#绘制折线图\u001b[39;00m\n",
      "\u001b[0;31mModuleNotFoundError\u001b[0m: No module named 'plotly'"
     ]
    }
   ],
   "source": [
    "import plotly.express as px\n",
    "import pandas as pd\n",
    "data = pd.read_csv(\"tips.csv\")#绘制折线图\n",
    "fig = px.line(data, y='tip', color='sex')\n",
    "fig.show()"
   ]
  },
  {
   "cell_type": "markdown",
   "id": "70d29043",
   "metadata": {},
   "source": [
    "## 有滑动条的折线图（交互式折线图）"
   ]
  },
  {
   "cell_type": "code",
   "execution_count": null,
   "id": "fdbc7b2d",
   "metadata": {},
   "outputs": [
    {
     "data": {
      "application/vnd.plotly.v1+json": {
       "config": {
        "plotlyServerURL": "https://plot.ly"
       },
       "data": [
        {
         "mode": "lines",
         "type": "scatter",
         "y": [
          1.01,
          1.66,
          3.5,
          3.31,
          3.61,
          4.71,
          2,
          3.12,
          1.96,
          3.23,
          1.71,
          5,
          1.57,
          3,
          3.02,
          3.92,
          1.67,
          3.71,
          3.5,
          3.35,
          4.08,
          2.75,
          2.23,
          7.58,
          3.18,
          2.34,
          2,
          2,
          4.3,
          3,
          1.45,
          2.5,
          3,
          2.45,
          3.27,
          3.6,
          2,
          3.07,
          2.31,
          5,
          2.24,
          2.54,
          3.06,
          1.32,
          5.6,
          3,
          5,
          6,
          2.05,
          3,
          2.5,
          2.6,
          5.2,
          1.56,
          4.34,
          3.51,
          3,
          1.5,
          1.76,
          6.73,
          3.21,
          2,
          1.98,
          3.76,
          2.64,
          3.15,
          2.47,
          1,
          2.01,
          2.09,
          1.97,
          3,
          3.14,
          5,
          2.2,
          1.25,
          3.08,
          4,
          3,
          2.71,
          3,
          3.4,
          1.83,
          5,
          2.03,
          5.17,
          2,
          4,
          5.85,
          3,
          3,
          3.5,
          1,
          4.3,
          3.25,
          4.73,
          4,
          1.5,
          3,
          1.5,
          2.5,
          3,
          2.5,
          3.48,
          4.08,
          1.64,
          4.06,
          4.29,
          3.76,
          4,
          3,
          1,
          4,
          2.55,
          4,
          3.5,
          5.07,
          1.5,
          1.8,
          2.92,
          2.31,
          1.68,
          2.5,
          2,
          2.52,
          4.2,
          1.48,
          2,
          2,
          2.18,
          1.5,
          2.83,
          1.5,
          2,
          3.25,
          1.25,
          2,
          2,
          2,
          2.75,
          3.5,
          6.7,
          5,
          5,
          2.3,
          1.5,
          1.36,
          1.63,
          1.73,
          2,
          2.5,
          2,
          2.74,
          2,
          2,
          5.14,
          5,
          3.75,
          2.61,
          2,
          3.5,
          2.5,
          2,
          2,
          3,
          3.48,
          2.24,
          4.5,
          1.61,
          2,
          10,
          3.16,
          5.15,
          3.18,
          4,
          3.11,
          2,
          2,
          4,
          3.55,
          3.68,
          5.65,
          3.5,
          6.5,
          3,
          5,
          3.5,
          2,
          3.5,
          4,
          1.5,
          4.19,
          2.56,
          2.02,
          4,
          1.44,
          2,
          5,
          2,
          2,
          4,
          2.01,
          2,
          2.5,
          4,
          3.23,
          3.41,
          3,
          2.03,
          2.23,
          2,
          5.16,
          9,
          2.5,
          6.5,
          1.1,
          3,
          1.5,
          1.44,
          3.09,
          2.2,
          3.48,
          1.92,
          3,
          1.58,
          2.5,
          2,
          3,
          2.72,
          2.88,
          2,
          3,
          3.39,
          1.47,
          3,
          1.25,
          1,
          1.17,
          4.67,
          5.92,
          2,
          2,
          1.75,
          3
         ]
        }
       ],
       "layout": {
        "template": {
         "data": {
          "bar": [
           {
            "error_x": {
             "color": "#2a3f5f"
            },
            "error_y": {
             "color": "#2a3f5f"
            },
            "marker": {
             "line": {
              "color": "#E5ECF6",
              "width": 0.5
             },
             "pattern": {
              "fillmode": "overlay",
              "size": 10,
              "solidity": 0.2
             }
            },
            "type": "bar"
           }
          ],
          "barpolar": [
           {
            "marker": {
             "line": {
              "color": "#E5ECF6",
              "width": 0.5
             },
             "pattern": {
              "fillmode": "overlay",
              "size": 10,
              "solidity": 0.2
             }
            },
            "type": "barpolar"
           }
          ],
          "carpet": [
           {
            "aaxis": {
             "endlinecolor": "#2a3f5f",
             "gridcolor": "white",
             "linecolor": "white",
             "minorgridcolor": "white",
             "startlinecolor": "#2a3f5f"
            },
            "baxis": {
             "endlinecolor": "#2a3f5f",
             "gridcolor": "white",
             "linecolor": "white",
             "minorgridcolor": "white",
             "startlinecolor": "#2a3f5f"
            },
            "type": "carpet"
           }
          ],
          "choropleth": [
           {
            "colorbar": {
             "outlinewidth": 0,
             "ticks": ""
            },
            "type": "choropleth"
           }
          ],
          "contour": [
           {
            "colorbar": {
             "outlinewidth": 0,
             "ticks": ""
            },
            "colorscale": [
             [
              0,
              "#0d0887"
             ],
             [
              0.1111111111111111,
              "#46039f"
             ],
             [
              0.2222222222222222,
              "#7201a8"
             ],
             [
              0.3333333333333333,
              "#9c179e"
             ],
             [
              0.4444444444444444,
              "#bd3786"
             ],
             [
              0.5555555555555556,
              "#d8576b"
             ],
             [
              0.6666666666666666,
              "#ed7953"
             ],
             [
              0.7777777777777778,
              "#fb9f3a"
             ],
             [
              0.8888888888888888,
              "#fdca26"
             ],
             [
              1,
              "#f0f921"
             ]
            ],
            "type": "contour"
           }
          ],
          "contourcarpet": [
           {
            "colorbar": {
             "outlinewidth": 0,
             "ticks": ""
            },
            "type": "contourcarpet"
           }
          ],
          "heatmap": [
           {
            "colorbar": {
             "outlinewidth": 0,
             "ticks": ""
            },
            "colorscale": [
             [
              0,
              "#0d0887"
             ],
             [
              0.1111111111111111,
              "#46039f"
             ],
             [
              0.2222222222222222,
              "#7201a8"
             ],
             [
              0.3333333333333333,
              "#9c179e"
             ],
             [
              0.4444444444444444,
              "#bd3786"
             ],
             [
              0.5555555555555556,
              "#d8576b"
             ],
             [
              0.6666666666666666,
              "#ed7953"
             ],
             [
              0.7777777777777778,
              "#fb9f3a"
             ],
             [
              0.8888888888888888,
              "#fdca26"
             ],
             [
              1,
              "#f0f921"
             ]
            ],
            "type": "heatmap"
           }
          ],
          "heatmapgl": [
           {
            "colorbar": {
             "outlinewidth": 0,
             "ticks": ""
            },
            "colorscale": [
             [
              0,
              "#0d0887"
             ],
             [
              0.1111111111111111,
              "#46039f"
             ],
             [
              0.2222222222222222,
              "#7201a8"
             ],
             [
              0.3333333333333333,
              "#9c179e"
             ],
             [
              0.4444444444444444,
              "#bd3786"
             ],
             [
              0.5555555555555556,
              "#d8576b"
             ],
             [
              0.6666666666666666,
              "#ed7953"
             ],
             [
              0.7777777777777778,
              "#fb9f3a"
             ],
             [
              0.8888888888888888,
              "#fdca26"
             ],
             [
              1,
              "#f0f921"
             ]
            ],
            "type": "heatmapgl"
           }
          ],
          "histogram": [
           {
            "marker": {
             "pattern": {
              "fillmode": "overlay",
              "size": 10,
              "solidity": 0.2
             }
            },
            "type": "histogram"
           }
          ],
          "histogram2d": [
           {
            "colorbar": {
             "outlinewidth": 0,
             "ticks": ""
            },
            "colorscale": [
             [
              0,
              "#0d0887"
             ],
             [
              0.1111111111111111,
              "#46039f"
             ],
             [
              0.2222222222222222,
              "#7201a8"
             ],
             [
              0.3333333333333333,
              "#9c179e"
             ],
             [
              0.4444444444444444,
              "#bd3786"
             ],
             [
              0.5555555555555556,
              "#d8576b"
             ],
             [
              0.6666666666666666,
              "#ed7953"
             ],
             [
              0.7777777777777778,
              "#fb9f3a"
             ],
             [
              0.8888888888888888,
              "#fdca26"
             ],
             [
              1,
              "#f0f921"
             ]
            ],
            "type": "histogram2d"
           }
          ],
          "histogram2dcontour": [
           {
            "colorbar": {
             "outlinewidth": 0,
             "ticks": ""
            },
            "colorscale": [
             [
              0,
              "#0d0887"
             ],
             [
              0.1111111111111111,
              "#46039f"
             ],
             [
              0.2222222222222222,
              "#7201a8"
             ],
             [
              0.3333333333333333,
              "#9c179e"
             ],
             [
              0.4444444444444444,
              "#bd3786"
             ],
             [
              0.5555555555555556,
              "#d8576b"
             ],
             [
              0.6666666666666666,
              "#ed7953"
             ],
             [
              0.7777777777777778,
              "#fb9f3a"
             ],
             [
              0.8888888888888888,
              "#fdca26"
             ],
             [
              1,
              "#f0f921"
             ]
            ],
            "type": "histogram2dcontour"
           }
          ],
          "mesh3d": [
           {
            "colorbar": {
             "outlinewidth": 0,
             "ticks": ""
            },
            "type": "mesh3d"
           }
          ],
          "parcoords": [
           {
            "line": {
             "colorbar": {
              "outlinewidth": 0,
              "ticks": ""
             }
            },
            "type": "parcoords"
           }
          ],
          "pie": [
           {
            "automargin": true,
            "type": "pie"
           }
          ],
          "scatter": [
           {
            "fillpattern": {
             "fillmode": "overlay",
             "size": 10,
             "solidity": 0.2
            },
            "type": "scatter"
           }
          ],
          "scatter3d": [
           {
            "line": {
             "colorbar": {
              "outlinewidth": 0,
              "ticks": ""
             }
            },
            "marker": {
             "colorbar": {
              "outlinewidth": 0,
              "ticks": ""
             }
            },
            "type": "scatter3d"
           }
          ],
          "scattercarpet": [
           {
            "marker": {
             "colorbar": {
              "outlinewidth": 0,
              "ticks": ""
             }
            },
            "type": "scattercarpet"
           }
          ],
          "scattergeo": [
           {
            "marker": {
             "colorbar": {
              "outlinewidth": 0,
              "ticks": ""
             }
            },
            "type": "scattergeo"
           }
          ],
          "scattergl": [
           {
            "marker": {
             "colorbar": {
              "outlinewidth": 0,
              "ticks": ""
             }
            },
            "type": "scattergl"
           }
          ],
          "scattermapbox": [
           {
            "marker": {
             "colorbar": {
              "outlinewidth": 0,
              "ticks": ""
             }
            },
            "type": "scattermapbox"
           }
          ],
          "scatterpolar": [
           {
            "marker": {
             "colorbar": {
              "outlinewidth": 0,
              "ticks": ""
             }
            },
            "type": "scatterpolar"
           }
          ],
          "scatterpolargl": [
           {
            "marker": {
             "colorbar": {
              "outlinewidth": 0,
              "ticks": ""
             }
            },
            "type": "scatterpolargl"
           }
          ],
          "scatterternary": [
           {
            "marker": {
             "colorbar": {
              "outlinewidth": 0,
              "ticks": ""
             }
            },
            "type": "scatterternary"
           }
          ],
          "surface": [
           {
            "colorbar": {
             "outlinewidth": 0,
             "ticks": ""
            },
            "colorscale": [
             [
              0,
              "#0d0887"
             ],
             [
              0.1111111111111111,
              "#46039f"
             ],
             [
              0.2222222222222222,
              "#7201a8"
             ],
             [
              0.3333333333333333,
              "#9c179e"
             ],
             [
              0.4444444444444444,
              "#bd3786"
             ],
             [
              0.5555555555555556,
              "#d8576b"
             ],
             [
              0.6666666666666666,
              "#ed7953"
             ],
             [
              0.7777777777777778,
              "#fb9f3a"
             ],
             [
              0.8888888888888888,
              "#fdca26"
             ],
             [
              1,
              "#f0f921"
             ]
            ],
            "type": "surface"
           }
          ],
          "table": [
           {
            "cells": {
             "fill": {
              "color": "#EBF0F8"
             },
             "line": {
              "color": "white"
             }
            },
            "header": {
             "fill": {
              "color": "#C8D4E3"
             },
             "line": {
              "color": "white"
             }
            },
            "type": "table"
           }
          ]
         },
         "layout": {
          "annotationdefaults": {
           "arrowcolor": "#2a3f5f",
           "arrowhead": 0,
           "arrowwidth": 1
          },
          "autotypenumbers": "strict",
          "coloraxis": {
           "colorbar": {
            "outlinewidth": 0,
            "ticks": ""
           }
          },
          "colorscale": {
           "diverging": [
            [
             0,
             "#8e0152"
            ],
            [
             0.1,
             "#c51b7d"
            ],
            [
             0.2,
             "#de77ae"
            ],
            [
             0.3,
             "#f1b6da"
            ],
            [
             0.4,
             "#fde0ef"
            ],
            [
             0.5,
             "#f7f7f7"
            ],
            [
             0.6,
             "#e6f5d0"
            ],
            [
             0.7,
             "#b8e186"
            ],
            [
             0.8,
             "#7fbc41"
            ],
            [
             0.9,
             "#4d9221"
            ],
            [
             1,
             "#276419"
            ]
           ],
           "sequential": [
            [
             0,
             "#0d0887"
            ],
            [
             0.1111111111111111,
             "#46039f"
            ],
            [
             0.2222222222222222,
             "#7201a8"
            ],
            [
             0.3333333333333333,
             "#9c179e"
            ],
            [
             0.4444444444444444,
             "#bd3786"
            ],
            [
             0.5555555555555556,
             "#d8576b"
            ],
            [
             0.6666666666666666,
             "#ed7953"
            ],
            [
             0.7777777777777778,
             "#fb9f3a"
            ],
            [
             0.8888888888888888,
             "#fdca26"
            ],
            [
             1,
             "#f0f921"
            ]
           ],
           "sequentialminus": [
            [
             0,
             "#0d0887"
            ],
            [
             0.1111111111111111,
             "#46039f"
            ],
            [
             0.2222222222222222,
             "#7201a8"
            ],
            [
             0.3333333333333333,
             "#9c179e"
            ],
            [
             0.4444444444444444,
             "#bd3786"
            ],
            [
             0.5555555555555556,
             "#d8576b"
            ],
            [
             0.6666666666666666,
             "#ed7953"
            ],
            [
             0.7777777777777778,
             "#fb9f3a"
            ],
            [
             0.8888888888888888,
             "#fdca26"
            ],
            [
             1,
             "#f0f921"
            ]
           ]
          },
          "colorway": [
           "#636efa",
           "#EF553B",
           "#00cc96",
           "#ab63fa",
           "#FFA15A",
           "#19d3f3",
           "#FF6692",
           "#B6E880",
           "#FF97FF",
           "#FECB52"
          ],
          "font": {
           "color": "#2a3f5f"
          },
          "geo": {
           "bgcolor": "white",
           "lakecolor": "white",
           "landcolor": "#E5ECF6",
           "showlakes": true,
           "showland": true,
           "subunitcolor": "white"
          },
          "hoverlabel": {
           "align": "left"
          },
          "hovermode": "closest",
          "mapbox": {
           "style": "light"
          },
          "paper_bgcolor": "white",
          "plot_bgcolor": "#E5ECF6",
          "polar": {
           "angularaxis": {
            "gridcolor": "white",
            "linecolor": "white",
            "ticks": ""
           },
           "bgcolor": "#E5ECF6",
           "radialaxis": {
            "gridcolor": "white",
            "linecolor": "white",
            "ticks": ""
           }
          },
          "scene": {
           "xaxis": {
            "backgroundcolor": "#E5ECF6",
            "gridcolor": "white",
            "gridwidth": 2,
            "linecolor": "white",
            "showbackground": true,
            "ticks": "",
            "zerolinecolor": "white"
           },
           "yaxis": {
            "backgroundcolor": "#E5ECF6",
            "gridcolor": "white",
            "gridwidth": 2,
            "linecolor": "white",
            "showbackground": true,
            "ticks": "",
            "zerolinecolor": "white"
           },
           "zaxis": {
            "backgroundcolor": "#E5ECF6",
            "gridcolor": "white",
            "gridwidth": 2,
            "linecolor": "white",
            "showbackground": true,
            "ticks": "",
            "zerolinecolor": "white"
           }
          },
          "shapedefaults": {
           "line": {
            "color": "#2a3f5f"
           }
          },
          "ternary": {
           "aaxis": {
            "gridcolor": "white",
            "linecolor": "white",
            "ticks": ""
           },
           "baxis": {
            "gridcolor": "white",
            "linecolor": "white",
            "ticks": ""
           },
           "bgcolor": "#E5ECF6",
           "caxis": {
            "gridcolor": "white",
            "linecolor": "white",
            "ticks": ""
           }
          },
          "title": {
           "x": 0.05
          },
          "xaxis": {
           "automargin": true,
           "gridcolor": "white",
           "linecolor": "white",
           "ticks": "",
           "title": {
            "standoff": 15
           },
           "zerolinecolor": "white",
           "zerolinewidth": 2
          },
          "yaxis": {
           "automargin": true,
           "gridcolor": "white",
           "linecolor": "white",
           "ticks": "",
           "title": {
            "standoff": 15
           },
           "zerolinecolor": "white",
           "zerolinewidth": 2
          }
         }
        },
        "xaxis": {
         "rangeselector": {
          "buttons": [
           {
            "count": 1,
            "step": "day",
            "stepmode": "backward"
           }
          ]
         },
         "rangeslider": {
          "visible": true
         }
        }
       }
      },
      "text/html": [
       "<div>                            <div id=\"264dc8fc-e8d1-4472-925b-7f52daaed626\" class=\"plotly-graph-div\" style=\"height:525px; width:100%;\"></div>            <script type=\"text/javascript\">                require([\"plotly\"], function(Plotly) {                    window.PLOTLYENV=window.PLOTLYENV || {};                                    if (document.getElementById(\"264dc8fc-e8d1-4472-925b-7f52daaed626\")) {                    Plotly.newPlot(                        \"264dc8fc-e8d1-4472-925b-7f52daaed626\",                        [{\"mode\":\"lines\",\"y\":[1.01,1.66,3.5,3.31,3.61,4.71,2.0,3.12,1.96,3.23,1.71,5.0,1.57,3.0,3.02,3.92,1.67,3.71,3.5,3.35,4.08,2.75,2.23,7.58,3.18,2.34,2.0,2.0,4.3,3.0,1.45,2.5,3.0,2.45,3.27,3.6,2.0,3.07,2.31,5.0,2.24,2.54,3.06,1.32,5.6,3.0,5.0,6.0,2.05,3.0,2.5,2.6,5.2,1.56,4.34,3.51,3.0,1.5,1.76,6.73,3.21,2.0,1.98,3.76,2.64,3.15,2.47,1.0,2.01,2.09,1.97,3.0,3.14,5.0,2.2,1.25,3.08,4.0,3.0,2.71,3.0,3.4,1.83,5.0,2.03,5.17,2.0,4.0,5.85,3.0,3.0,3.5,1.0,4.3,3.25,4.73,4.0,1.5,3.0,1.5,2.5,3.0,2.5,3.48,4.08,1.64,4.06,4.29,3.76,4.0,3.0,1.0,4.0,2.55,4.0,3.5,5.07,1.5,1.8,2.92,2.31,1.68,2.5,2.0,2.52,4.2,1.48,2.0,2.0,2.18,1.5,2.83,1.5,2.0,3.25,1.25,2.0,2.0,2.0,2.75,3.5,6.7,5.0,5.0,2.3,1.5,1.36,1.63,1.73,2.0,2.5,2.0,2.74,2.0,2.0,5.14,5.0,3.75,2.61,2.0,3.5,2.5,2.0,2.0,3.0,3.48,2.24,4.5,1.61,2.0,10.0,3.16,5.15,3.18,4.0,3.11,2.0,2.0,4.0,3.55,3.68,5.65,3.5,6.5,3.0,5.0,3.5,2.0,3.5,4.0,1.5,4.19,2.56,2.02,4.0,1.44,2.0,5.0,2.0,2.0,4.0,2.01,2.0,2.5,4.0,3.23,3.41,3.0,2.03,2.23,2.0,5.16,9.0,2.5,6.5,1.1,3.0,1.5,1.44,3.09,2.2,3.48,1.92,3.0,1.58,2.5,2.0,3.0,2.72,2.88,2.0,3.0,3.39,1.47,3.0,1.25,1.0,1.17,4.67,5.92,2.0,2.0,1.75,3.0],\"type\":\"scatter\"}],                        {\"template\":{\"data\":{\"histogram2dcontour\":[{\"type\":\"histogram2dcontour\",\"colorbar\":{\"outlinewidth\":0,\"ticks\":\"\"},\"colorscale\":[[0.0,\"#0d0887\"],[0.1111111111111111,\"#46039f\"],[0.2222222222222222,\"#7201a8\"],[0.3333333333333333,\"#9c179e\"],[0.4444444444444444,\"#bd3786\"],[0.5555555555555556,\"#d8576b\"],[0.6666666666666666,\"#ed7953\"],[0.7777777777777778,\"#fb9f3a\"],[0.8888888888888888,\"#fdca26\"],[1.0,\"#f0f921\"]]}],\"choropleth\":[{\"type\":\"choropleth\",\"colorbar\":{\"outlinewidth\":0,\"ticks\":\"\"}}],\"histogram2d\":[{\"type\":\"histogram2d\",\"colorbar\":{\"outlinewidth\":0,\"ticks\":\"\"},\"colorscale\":[[0.0,\"#0d0887\"],[0.1111111111111111,\"#46039f\"],[0.2222222222222222,\"#7201a8\"],[0.3333333333333333,\"#9c179e\"],[0.4444444444444444,\"#bd3786\"],[0.5555555555555556,\"#d8576b\"],[0.6666666666666666,\"#ed7953\"],[0.7777777777777778,\"#fb9f3a\"],[0.8888888888888888,\"#fdca26\"],[1.0,\"#f0f921\"]]}],\"heatmap\":[{\"type\":\"heatmap\",\"colorbar\":{\"outlinewidth\":0,\"ticks\":\"\"},\"colorscale\":[[0.0,\"#0d0887\"],[0.1111111111111111,\"#46039f\"],[0.2222222222222222,\"#7201a8\"],[0.3333333333333333,\"#9c179e\"],[0.4444444444444444,\"#bd3786\"],[0.5555555555555556,\"#d8576b\"],[0.6666666666666666,\"#ed7953\"],[0.7777777777777778,\"#fb9f3a\"],[0.8888888888888888,\"#fdca26\"],[1.0,\"#f0f921\"]]}],\"heatmapgl\":[{\"type\":\"heatmapgl\",\"colorbar\":{\"outlinewidth\":0,\"ticks\":\"\"},\"colorscale\":[[0.0,\"#0d0887\"],[0.1111111111111111,\"#46039f\"],[0.2222222222222222,\"#7201a8\"],[0.3333333333333333,\"#9c179e\"],[0.4444444444444444,\"#bd3786\"],[0.5555555555555556,\"#d8576b\"],[0.6666666666666666,\"#ed7953\"],[0.7777777777777778,\"#fb9f3a\"],[0.8888888888888888,\"#fdca26\"],[1.0,\"#f0f921\"]]}],\"contourcarpet\":[{\"type\":\"contourcarpet\",\"colorbar\":{\"outlinewidth\":0,\"ticks\":\"\"}}],\"contour\":[{\"type\":\"contour\",\"colorbar\":{\"outlinewidth\":0,\"ticks\":\"\"},\"colorscale\":[[0.0,\"#0d0887\"],[0.1111111111111111,\"#46039f\"],[0.2222222222222222,\"#7201a8\"],[0.3333333333333333,\"#9c179e\"],[0.4444444444444444,\"#bd3786\"],[0.5555555555555556,\"#d8576b\"],[0.6666666666666666,\"#ed7953\"],[0.7777777777777778,\"#fb9f3a\"],[0.8888888888888888,\"#fdca26\"],[1.0,\"#f0f921\"]]}],\"surface\":[{\"type\":\"surface\",\"colorbar\":{\"outlinewidth\":0,\"ticks\":\"\"},\"colorscale\":[[0.0,\"#0d0887\"],[0.1111111111111111,\"#46039f\"],[0.2222222222222222,\"#7201a8\"],[0.3333333333333333,\"#9c179e\"],[0.4444444444444444,\"#bd3786\"],[0.5555555555555556,\"#d8576b\"],[0.6666666666666666,\"#ed7953\"],[0.7777777777777778,\"#fb9f3a\"],[0.8888888888888888,\"#fdca26\"],[1.0,\"#f0f921\"]]}],\"mesh3d\":[{\"type\":\"mesh3d\",\"colorbar\":{\"outlinewidth\":0,\"ticks\":\"\"}}],\"scatter\":[{\"fillpattern\":{\"fillmode\":\"overlay\",\"size\":10,\"solidity\":0.2},\"type\":\"scatter\"}],\"parcoords\":[{\"type\":\"parcoords\",\"line\":{\"colorbar\":{\"outlinewidth\":0,\"ticks\":\"\"}}}],\"scatterpolargl\":[{\"type\":\"scatterpolargl\",\"marker\":{\"colorbar\":{\"outlinewidth\":0,\"ticks\":\"\"}}}],\"bar\":[{\"error_x\":{\"color\":\"#2a3f5f\"},\"error_y\":{\"color\":\"#2a3f5f\"},\"marker\":{\"line\":{\"color\":\"#E5ECF6\",\"width\":0.5},\"pattern\":{\"fillmode\":\"overlay\",\"size\":10,\"solidity\":0.2}},\"type\":\"bar\"}],\"scattergeo\":[{\"type\":\"scattergeo\",\"marker\":{\"colorbar\":{\"outlinewidth\":0,\"ticks\":\"\"}}}],\"scatterpolar\":[{\"type\":\"scatterpolar\",\"marker\":{\"colorbar\":{\"outlinewidth\":0,\"ticks\":\"\"}}}],\"histogram\":[{\"marker\":{\"pattern\":{\"fillmode\":\"overlay\",\"size\":10,\"solidity\":0.2}},\"type\":\"histogram\"}],\"scattergl\":[{\"type\":\"scattergl\",\"marker\":{\"colorbar\":{\"outlinewidth\":0,\"ticks\":\"\"}}}],\"scatter3d\":[{\"type\":\"scatter3d\",\"line\":{\"colorbar\":{\"outlinewidth\":0,\"ticks\":\"\"}},\"marker\":{\"colorbar\":{\"outlinewidth\":0,\"ticks\":\"\"}}}],\"scattermapbox\":[{\"type\":\"scattermapbox\",\"marker\":{\"colorbar\":{\"outlinewidth\":0,\"ticks\":\"\"}}}],\"scatterternary\":[{\"type\":\"scatterternary\",\"marker\":{\"colorbar\":{\"outlinewidth\":0,\"ticks\":\"\"}}}],\"scattercarpet\":[{\"type\":\"scattercarpet\",\"marker\":{\"colorbar\":{\"outlinewidth\":0,\"ticks\":\"\"}}}],\"carpet\":[{\"aaxis\":{\"endlinecolor\":\"#2a3f5f\",\"gridcolor\":\"white\",\"linecolor\":\"white\",\"minorgridcolor\":\"white\",\"startlinecolor\":\"#2a3f5f\"},\"baxis\":{\"endlinecolor\":\"#2a3f5f\",\"gridcolor\":\"white\",\"linecolor\":\"white\",\"minorgridcolor\":\"white\",\"startlinecolor\":\"#2a3f5f\"},\"type\":\"carpet\"}],\"table\":[{\"cells\":{\"fill\":{\"color\":\"#EBF0F8\"},\"line\":{\"color\":\"white\"}},\"header\":{\"fill\":{\"color\":\"#C8D4E3\"},\"line\":{\"color\":\"white\"}},\"type\":\"table\"}],\"barpolar\":[{\"marker\":{\"line\":{\"color\":\"#E5ECF6\",\"width\":0.5},\"pattern\":{\"fillmode\":\"overlay\",\"size\":10,\"solidity\":0.2}},\"type\":\"barpolar\"}],\"pie\":[{\"automargin\":true,\"type\":\"pie\"}]},\"layout\":{\"autotypenumbers\":\"strict\",\"colorway\":[\"#636efa\",\"#EF553B\",\"#00cc96\",\"#ab63fa\",\"#FFA15A\",\"#19d3f3\",\"#FF6692\",\"#B6E880\",\"#FF97FF\",\"#FECB52\"],\"font\":{\"color\":\"#2a3f5f\"},\"hovermode\":\"closest\",\"hoverlabel\":{\"align\":\"left\"},\"paper_bgcolor\":\"white\",\"plot_bgcolor\":\"#E5ECF6\",\"polar\":{\"bgcolor\":\"#E5ECF6\",\"angularaxis\":{\"gridcolor\":\"white\",\"linecolor\":\"white\",\"ticks\":\"\"},\"radialaxis\":{\"gridcolor\":\"white\",\"linecolor\":\"white\",\"ticks\":\"\"}},\"ternary\":{\"bgcolor\":\"#E5ECF6\",\"aaxis\":{\"gridcolor\":\"white\",\"linecolor\":\"white\",\"ticks\":\"\"},\"baxis\":{\"gridcolor\":\"white\",\"linecolor\":\"white\",\"ticks\":\"\"},\"caxis\":{\"gridcolor\":\"white\",\"linecolor\":\"white\",\"ticks\":\"\"}},\"coloraxis\":{\"colorbar\":{\"outlinewidth\":0,\"ticks\":\"\"}},\"colorscale\":{\"sequential\":[[0.0,\"#0d0887\"],[0.1111111111111111,\"#46039f\"],[0.2222222222222222,\"#7201a8\"],[0.3333333333333333,\"#9c179e\"],[0.4444444444444444,\"#bd3786\"],[0.5555555555555556,\"#d8576b\"],[0.6666666666666666,\"#ed7953\"],[0.7777777777777778,\"#fb9f3a\"],[0.8888888888888888,\"#fdca26\"],[1.0,\"#f0f921\"]],\"sequentialminus\":[[0.0,\"#0d0887\"],[0.1111111111111111,\"#46039f\"],[0.2222222222222222,\"#7201a8\"],[0.3333333333333333,\"#9c179e\"],[0.4444444444444444,\"#bd3786\"],[0.5555555555555556,\"#d8576b\"],[0.6666666666666666,\"#ed7953\"],[0.7777777777777778,\"#fb9f3a\"],[0.8888888888888888,\"#fdca26\"],[1.0,\"#f0f921\"]],\"diverging\":[[0,\"#8e0152\"],[0.1,\"#c51b7d\"],[0.2,\"#de77ae\"],[0.3,\"#f1b6da\"],[0.4,\"#fde0ef\"],[0.5,\"#f7f7f7\"],[0.6,\"#e6f5d0\"],[0.7,\"#b8e186\"],[0.8,\"#7fbc41\"],[0.9,\"#4d9221\"],[1,\"#276419\"]]},\"xaxis\":{\"gridcolor\":\"white\",\"linecolor\":\"white\",\"ticks\":\"\",\"title\":{\"standoff\":15},\"zerolinecolor\":\"white\",\"automargin\":true,\"zerolinewidth\":2},\"yaxis\":{\"gridcolor\":\"white\",\"linecolor\":\"white\",\"ticks\":\"\",\"title\":{\"standoff\":15},\"zerolinecolor\":\"white\",\"automargin\":true,\"zerolinewidth\":2},\"scene\":{\"xaxis\":{\"backgroundcolor\":\"#E5ECF6\",\"gridcolor\":\"white\",\"linecolor\":\"white\",\"showbackground\":true,\"ticks\":\"\",\"zerolinecolor\":\"white\",\"gridwidth\":2},\"yaxis\":{\"backgroundcolor\":\"#E5ECF6\",\"gridcolor\":\"white\",\"linecolor\":\"white\",\"showbackground\":true,\"ticks\":\"\",\"zerolinecolor\":\"white\",\"gridwidth\":2},\"zaxis\":{\"backgroundcolor\":\"#E5ECF6\",\"gridcolor\":\"white\",\"linecolor\":\"white\",\"showbackground\":true,\"ticks\":\"\",\"zerolinecolor\":\"white\",\"gridwidth\":2}},\"shapedefaults\":{\"line\":{\"color\":\"#2a3f5f\"}},\"annotationdefaults\":{\"arrowcolor\":\"#2a3f5f\",\"arrowhead\":0,\"arrowwidth\":1},\"geo\":{\"bgcolor\":\"white\",\"landcolor\":\"#E5ECF6\",\"subunitcolor\":\"white\",\"showland\":true,\"showlakes\":true,\"lakecolor\":\"white\"},\"title\":{\"x\":0.05},\"mapbox\":{\"style\":\"light\"}}},\"xaxis\":{\"rangeslider\":{\"visible\":true},\"rangeselector\":{\"buttons\":[{\"count\":1,\"step\":\"day\",\"stepmode\":\"backward\"}]}}},                        {\"responsive\": true}                    ).then(function(){\n",
       "                            \n",
       "var gd = document.getElementById('264dc8fc-e8d1-4472-925b-7f52daaed626');\n",
       "var x = new MutationObserver(function (mutations, observer) {{\n",
       "        var display = window.getComputedStyle(gd).display;\n",
       "        if (!display || display === 'none') {{\n",
       "            console.log([gd, 'removed!']);\n",
       "            Plotly.purge(gd);\n",
       "            observer.disconnect();\n",
       "        }}\n",
       "}});\n",
       "\n",
       "// Listen for the removal of the full notebook cells\n",
       "var notebookContainer = gd.closest('#notebook-container');\n",
       "if (notebookContainer) {{\n",
       "    x.observe(notebookContainer, {childList: true});\n",
       "}}\n",
       "\n",
       "// Listen for the clearing of the current output cell\n",
       "var outputEl = gd.closest('.output');\n",
       "if (outputEl) {{\n",
       "    x.observe(outputEl, {childList: true});\n",
       "}}\n",
       "\n",
       "                        })                };                });            </script>        </div>"
      ]
     },
     "metadata": {},
     "output_type": "display_data"
    }
   ],
   "source": [
    "# 添加滑动条\n",
    "import plotly.graph_objects as px\n",
    "import pandas as pd\n",
    "data = pd.read_csv(\"tips.csv\")\n",
    "plot = px.Figure(data=[px.Scatter(\n",
    "                    y=data['tip'],\n",
    "                    mode='lines')])\n",
    "\n",
    "plot.update_layout(\n",
    "    xaxis=dict(\n",
    "        rangeselector=dict(buttons=list([dict(count=1,step=\"day\",stepmode=\"backward\"),])),\n",
    "        rangeslider=dict(visible=True),\n",
    "    )\n",
    ")\n",
    " \n",
    "plot.show()"
   ]
  },
  {
   "cell_type": "markdown",
   "id": "eec8565c",
   "metadata": {},
   "source": [
    "## 画条形图(Histogram)"
   ]
  },
  {
   "cell_type": "code",
   "execution_count": null,
   "id": "0e002642",
   "metadata": {},
   "outputs": [
    {
     "data": {
      "text/plain": [
       "Text(0, 0.5, 'Frequency')"
      ]
     },
     "execution_count": 39,
     "metadata": {},
     "output_type": "execute_result"
    },
    {
     "data": {
      "image/png": "[encoded data removed]",
      "text/plain": [
       "<Figure size 640x480 with 1 Axes>"
      ]
     },
     "metadata": {},
     "output_type": "display_data"
    }
   ],
   "source": [
    "plt.hist(data['total_bill'],bins=20,density=True,histtype=\"bar\",color=\"blue\")\n",
    "plt.xlabel(\"Total bill distribution\")\n",
    "plt.ylabel(\"Frequency\")"
   ]
  },
  {
   "attachments": {},
   "cell_type": "markdown",
   "id": "766bac06",
   "metadata": {},
   "source": [
    "## 使用seaborn绘制条形图"
   ]
  },
  {
   "cell_type": "code",
   "execution_count": null,
   "id": "9bf216fa",
   "metadata": {},
   "outputs": [
    {
     "data": {
      "image/png": "[encoded data removed]",
      "text/plain": [
       "<Figure size 640x480 with 1 Axes>"
      ]
     },
     "metadata": {},
     "output_type": "display_data"
    }
   ],
   "source": [
    "import seaborn as sns\n",
    "import matplotlib.pyplot as plt\n",
    "import pandas as pd\n",
    " \n",
    "data = pd.read_csv(\"tips.csv\")#绘制条形图，并且绘制\n",
    "ax = sns.histplot(x='total_bill', data=data, kde=True, hue='sex')#存储结果\n",
    "fig = ax.get_figure()\n",
    "fig.savefig('output.png')\n",
    "plt.show()"
   ]
  },
  {
   "cell_type": "code",
   "execution_count": null,
   "id": "31b2643a",
   "metadata": {},
   "outputs": [],
   "source": []
  },
  {
   "cell_type": "code",
   "execution_count": null,
   "id": "cec5a8a2",
   "metadata": {},
   "outputs": [],
   "source": []
  },
  {
   "cell_type": "code",
   "execution_count": null,
   "id": "7513f501",
   "metadata": {},
   "outputs": [],
   "source": []
  }
 ],
 "metadata": {
  "kernelspec": {
   "display_name": "Python 3 (ipykernel)",
   "language": "python",
   "name": "python3"
  },
  "language_info": {
   "codemirror_mode": {
    "name": "ipython",
    "version": 3
   },
   "file_extension": ".py",
   "mimetype": "text/x-python",
   "name": "python",
   "nbconvert_exporter": "python",
   "pygments_lexer": "ipython3",
   "version": "3.9.6"
  }
 },
 "nbformat": 4,
 "nbformat_minor": 5
}
